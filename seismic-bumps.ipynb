{
 "cells": [
  {
   "cell_type": "code",
   "execution_count": 1,
   "metadata": {},
   "outputs": [],
   "source": [
    "from scipy.io import arff\n",
    "import pandas as pd\n",
    "import numpy as np\n",
    "import matplotlib.pyplot as plt\n",
    "from sklearn.decomposition import PCA\n",
    "from sklearn.model_selection import GridSearchCV\n",
    "from sklearn.metrics import confusion_matrix\n",
    "from sklearn.metrics import classification_report\n",
    "from sklearn.model_selection import train_test_split\n",
    "from sklearn.neighbors import KNeighborsClassifier\n",
    "from sklearn.svm import SVC\n",
    "from sklearn.neural_network import MLPClassifier\n",
    "%matplotlib inline"
   ]
  },
  {
   "cell_type": "markdown",
   "metadata": {},
   "source": [
    "# Задача\n",
    "## Cпрогнозировать опасность следующей смены в шахте"
   ]
  },
  {
   "cell_type": "markdown",
   "metadata": {},
   "source": [
    "# Характеристики данных\n",
    "\n",
    "Два класса  \n",
    "Данные несбалансированы  \n",
    "Данные разнородные\n",
    "\n",
    "**Instances**: 2584  \n",
    "**Attributes**: 18 + class  \n",
    "**Class distribution**:  \n",
    "\"hazardous state\" (class 1)    :  170  (6.6%)  \n",
    "\"non-hazardous state\" (class 0): 2414 (93.4%)  \n",
    "**Missing Attribute Values**: None\n",
    "\n",
    "**Attribute information**:\n",
    "1. seismic: result of shift seismic hazard assessment in the mine working obtained by the seismic  \n",
    "method (a - lack of hazard, b - low hazard, c - high hazard, d - danger state);\n",
    "2. seismoacoustic: result of shift seismic hazard assessment in the mine working obtained by the  \n",
    "seismoacoustic method;\n",
    "3. shift: information about type of a shift (W - coal-getting, N -preparation shift);\n",
    "4. genergy: seismic energy recorded within previous shift by the most active geophone (GMax) out of  \n",
    "geophones monitoring the longwall;\n",
    "5. gpuls: a number of pulses recorded within previous shift by GMax;\n",
    "6. gdenergy: a deviation of energy recorded within previous shift by GMax from average energy recorded  \n",
    "during eight previous shifts;\n",
    "7. gdpuls: a deviation of a number of pulses recorded within previous shift by GMax from average number  \n",
    "of pulses recorded during eight previous shifts;\n",
    "8. ghazard: result of shift seismic hazard assessment in the mine working obtained by the  \n",
    "seismoacoustic method based on registration coming form GMax only;\n",
    "9. nbumps: the number of seismic bumps recorded within previous shift;\n",
    "10. nbumps2: the number of seismic bumps (in energy range [10^2,10^3)) registered within previous shift;\n",
    "11. nbumps3: the number of seismic bumps (in energy range [10^3,10^4)) registered within previous shift;\n",
    "12. nbumps4: the number of seismic bumps (in energy range [10^4,10^5)) registered within previous shift;\n",
    "13. nbumps5: the number of seismic bumps (in energy range [10^5,10^6)) registered within the last shift;\n",
    "14. nbumps6: the number of seismic bumps (in energy range [10^6,10^7)) registered within previous shift;\n",
    "15. nbumps7: the number of seismic bumps (in energy range [10^7,10^8)) registered within previous shift;\n",
    "16. nbumps89: the number of seismic bumps (in energy range [10^8,10^10)) registered within previous shift;\n",
    "17. energy: total energy of seismic bumps registered within previous shift;\n",
    "18. maxenergy: the maximum energy of the seismic bumps registered within previous shift;\n",
    "19. class: the decision attribute - '1' means that high energy seismic bump occurred in the next shift  \n",
    "('hazardous state'), '0' means that no high energy seismic bumps occurred in the next shift  \n",
    "('non-hazardous state')."
   ]
  },
  {
   "cell_type": "markdown",
   "metadata": {},
   "source": [
    "## Считывание данных"
   ]
  },
  {
   "cell_type": "code",
   "execution_count": 2,
   "metadata": {},
   "outputs": [
    {
     "data": {
      "text/html": [
       "<div>\n",
       "<style scoped>\n",
       "    .dataframe tbody tr th:only-of-type {\n",
       "        vertical-align: middle;\n",
       "    }\n",
       "\n",
       "    .dataframe tbody tr th {\n",
       "        vertical-align: top;\n",
       "    }\n",
       "\n",
       "    .dataframe thead th {\n",
       "        text-align: right;\n",
       "    }\n",
       "</style>\n",
       "<table border=\"1\" class=\"dataframe\">\n",
       "  <thead>\n",
       "    <tr style=\"text-align: right;\">\n",
       "      <th></th>\n",
       "      <th>seismic</th>\n",
       "      <th>seismoacoustic</th>\n",
       "      <th>shift</th>\n",
       "      <th>genergy</th>\n",
       "      <th>gpuls</th>\n",
       "      <th>gdenergy</th>\n",
       "      <th>gdpuls</th>\n",
       "      <th>ghazard</th>\n",
       "      <th>nbumps</th>\n",
       "      <th>nbumps2</th>\n",
       "      <th>nbumps3</th>\n",
       "      <th>nbumps4</th>\n",
       "      <th>nbumps5</th>\n",
       "      <th>nbumps6</th>\n",
       "      <th>nbumps7</th>\n",
       "      <th>nbumps89</th>\n",
       "      <th>energy</th>\n",
       "      <th>maxenergy</th>\n",
       "      <th>class</th>\n",
       "    </tr>\n",
       "  </thead>\n",
       "  <tbody>\n",
       "    <tr>\n",
       "      <td>0</td>\n",
       "      <td>b'a'</td>\n",
       "      <td>b'a'</td>\n",
       "      <td>b'N'</td>\n",
       "      <td>15180.0</td>\n",
       "      <td>48.0</td>\n",
       "      <td>-72.0</td>\n",
       "      <td>-72.0</td>\n",
       "      <td>b'a'</td>\n",
       "      <td>0.0</td>\n",
       "      <td>0.0</td>\n",
       "      <td>0.0</td>\n",
       "      <td>0.0</td>\n",
       "      <td>0.0</td>\n",
       "      <td>0.0</td>\n",
       "      <td>0.0</td>\n",
       "      <td>0.0</td>\n",
       "      <td>0.0</td>\n",
       "      <td>0.0</td>\n",
       "      <td>b'0'</td>\n",
       "    </tr>\n",
       "    <tr>\n",
       "      <td>1</td>\n",
       "      <td>b'a'</td>\n",
       "      <td>b'a'</td>\n",
       "      <td>b'N'</td>\n",
       "      <td>14720.0</td>\n",
       "      <td>33.0</td>\n",
       "      <td>-70.0</td>\n",
       "      <td>-79.0</td>\n",
       "      <td>b'a'</td>\n",
       "      <td>1.0</td>\n",
       "      <td>0.0</td>\n",
       "      <td>1.0</td>\n",
       "      <td>0.0</td>\n",
       "      <td>0.0</td>\n",
       "      <td>0.0</td>\n",
       "      <td>0.0</td>\n",
       "      <td>0.0</td>\n",
       "      <td>2000.0</td>\n",
       "      <td>2000.0</td>\n",
       "      <td>b'0'</td>\n",
       "    </tr>\n",
       "    <tr>\n",
       "      <td>2</td>\n",
       "      <td>b'a'</td>\n",
       "      <td>b'a'</td>\n",
       "      <td>b'N'</td>\n",
       "      <td>8050.0</td>\n",
       "      <td>30.0</td>\n",
       "      <td>-81.0</td>\n",
       "      <td>-78.0</td>\n",
       "      <td>b'a'</td>\n",
       "      <td>0.0</td>\n",
       "      <td>0.0</td>\n",
       "      <td>0.0</td>\n",
       "      <td>0.0</td>\n",
       "      <td>0.0</td>\n",
       "      <td>0.0</td>\n",
       "      <td>0.0</td>\n",
       "      <td>0.0</td>\n",
       "      <td>0.0</td>\n",
       "      <td>0.0</td>\n",
       "      <td>b'0'</td>\n",
       "    </tr>\n",
       "    <tr>\n",
       "      <td>3</td>\n",
       "      <td>b'a'</td>\n",
       "      <td>b'a'</td>\n",
       "      <td>b'N'</td>\n",
       "      <td>28820.0</td>\n",
       "      <td>171.0</td>\n",
       "      <td>-23.0</td>\n",
       "      <td>40.0</td>\n",
       "      <td>b'a'</td>\n",
       "      <td>1.0</td>\n",
       "      <td>0.0</td>\n",
       "      <td>1.0</td>\n",
       "      <td>0.0</td>\n",
       "      <td>0.0</td>\n",
       "      <td>0.0</td>\n",
       "      <td>0.0</td>\n",
       "      <td>0.0</td>\n",
       "      <td>3000.0</td>\n",
       "      <td>3000.0</td>\n",
       "      <td>b'0'</td>\n",
       "    </tr>\n",
       "    <tr>\n",
       "      <td>4</td>\n",
       "      <td>b'a'</td>\n",
       "      <td>b'a'</td>\n",
       "      <td>b'N'</td>\n",
       "      <td>12640.0</td>\n",
       "      <td>57.0</td>\n",
       "      <td>-63.0</td>\n",
       "      <td>-52.0</td>\n",
       "      <td>b'a'</td>\n",
       "      <td>0.0</td>\n",
       "      <td>0.0</td>\n",
       "      <td>0.0</td>\n",
       "      <td>0.0</td>\n",
       "      <td>0.0</td>\n",
       "      <td>0.0</td>\n",
       "      <td>0.0</td>\n",
       "      <td>0.0</td>\n",
       "      <td>0.0</td>\n",
       "      <td>0.0</td>\n",
       "      <td>b'0'</td>\n",
       "    </tr>\n",
       "  </tbody>\n",
       "</table>\n",
       "</div>"
      ],
      "text/plain": [
       "  seismic seismoacoustic shift  genergy  gpuls  gdenergy  gdpuls ghazard  \\\n",
       "0    b'a'           b'a'  b'N'  15180.0   48.0     -72.0   -72.0    b'a'   \n",
       "1    b'a'           b'a'  b'N'  14720.0   33.0     -70.0   -79.0    b'a'   \n",
       "2    b'a'           b'a'  b'N'   8050.0   30.0     -81.0   -78.0    b'a'   \n",
       "3    b'a'           b'a'  b'N'  28820.0  171.0     -23.0    40.0    b'a'   \n",
       "4    b'a'           b'a'  b'N'  12640.0   57.0     -63.0   -52.0    b'a'   \n",
       "\n",
       "   nbumps  nbumps2  nbumps3  nbumps4  nbumps5  nbumps6  nbumps7  nbumps89  \\\n",
       "0     0.0      0.0      0.0      0.0      0.0      0.0      0.0       0.0   \n",
       "1     1.0      0.0      1.0      0.0      0.0      0.0      0.0       0.0   \n",
       "2     0.0      0.0      0.0      0.0      0.0      0.0      0.0       0.0   \n",
       "3     1.0      0.0      1.0      0.0      0.0      0.0      0.0       0.0   \n",
       "4     0.0      0.0      0.0      0.0      0.0      0.0      0.0       0.0   \n",
       "\n",
       "   energy  maxenergy class  \n",
       "0     0.0        0.0  b'0'  \n",
       "1  2000.0     2000.0  b'0'  \n",
       "2     0.0        0.0  b'0'  \n",
       "3  3000.0     3000.0  b'0'  \n",
       "4     0.0        0.0  b'0'  "
      ]
     },
     "execution_count": 2,
     "metadata": {},
     "output_type": "execute_result"
    }
   ],
   "source": [
    "data = arff.loadarff('seismic-bumps.arff')\n",
    "df = pd.DataFrame(data[0])\n",
    "\n",
    "df.head()"
   ]
  },
  {
   "cell_type": "markdown",
   "metadata": {},
   "source": [
    "# Предобработка данных\n",
    "## Убираю столбцы nbumps6-9, так как они практически полностью нулевые"
   ]
  },
  {
   "cell_type": "code",
   "execution_count": 3,
   "metadata": {},
   "outputs": [],
   "source": [
    "df = df.drop('nbumps6', axis = 1)\\\n",
    "            .drop('nbumps7', axis = 1)\\\n",
    "           .drop('nbumps89',    axis = 1)\\\n",
    "#.drop('nbumps', axis = 1)\\\n",
    "#.drop('nbumps2', axis = 1)\\\n",
    "#.drop('nbumps3', axis = 1)\\\n",
    "#.drop('nbumps4', axis = 1)\\\n",
    "#.drop('nbumps5', axis = 1)\\"
   ]
  },
  {
   "cell_type": "markdown",
   "metadata": {},
   "source": [
    "## Ищу категориальные и числовые признаки"
   ]
  },
  {
   "cell_type": "code",
   "execution_count": 4,
   "metadata": {},
   "outputs": [
    {
     "name": "stdout",
     "output_type": "stream",
     "text": [
      "['seismic', 'seismoacoustic', 'shift', 'ghazard', 'class']\n",
      "['genergy', 'gpuls', 'gdenergy', 'gdpuls', 'nbumps', 'nbumps2', 'nbumps3', 'nbumps4', 'nbumps5', 'energy', 'maxenergy']\n"
     ]
    }
   ],
   "source": [
    "categorical_columns = [c for c in df.columns if df[c].dtype.name == 'object']\n",
    "numerical_columns   = [c for c in df.columns if df[c].dtype.name != 'object']\n",
    "print(categorical_columns)\n",
    "print(numerical_columns)"
   ]
  },
  {
   "cell_type": "markdown",
   "metadata": {},
   "source": [
    "## Декодирую данные в категориальных признаках"
   ]
  },
  {
   "cell_type": "code",
   "execution_count": 5,
   "metadata": {},
   "outputs": [],
   "source": [
    "for c in categorical_columns:\n",
    "    df[c] = df[c].str.decode(encoding = 'utf-8')"
   ]
  },
  {
   "cell_type": "code",
   "execution_count": 6,
   "metadata": {},
   "outputs": [
    {
     "data": {
      "text/html": [
       "<div>\n",
       "<style scoped>\n",
       "    .dataframe tbody tr th:only-of-type {\n",
       "        vertical-align: middle;\n",
       "    }\n",
       "\n",
       "    .dataframe tbody tr th {\n",
       "        vertical-align: top;\n",
       "    }\n",
       "\n",
       "    .dataframe thead th {\n",
       "        text-align: right;\n",
       "    }\n",
       "</style>\n",
       "<table border=\"1\" class=\"dataframe\">\n",
       "  <thead>\n",
       "    <tr style=\"text-align: right;\">\n",
       "      <th></th>\n",
       "      <th>seismic</th>\n",
       "      <th>seismoacoustic</th>\n",
       "      <th>shift</th>\n",
       "      <th>genergy</th>\n",
       "      <th>gpuls</th>\n",
       "      <th>gdenergy</th>\n",
       "      <th>gdpuls</th>\n",
       "      <th>ghazard</th>\n",
       "      <th>nbumps</th>\n",
       "      <th>nbumps2</th>\n",
       "      <th>nbumps3</th>\n",
       "      <th>nbumps4</th>\n",
       "      <th>nbumps5</th>\n",
       "      <th>energy</th>\n",
       "      <th>maxenergy</th>\n",
       "      <th>class</th>\n",
       "    </tr>\n",
       "  </thead>\n",
       "  <tbody>\n",
       "    <tr>\n",
       "      <td>0</td>\n",
       "      <td>a</td>\n",
       "      <td>a</td>\n",
       "      <td>N</td>\n",
       "      <td>15180.0</td>\n",
       "      <td>48.0</td>\n",
       "      <td>-72.0</td>\n",
       "      <td>-72.0</td>\n",
       "      <td>a</td>\n",
       "      <td>0.0</td>\n",
       "      <td>0.0</td>\n",
       "      <td>0.0</td>\n",
       "      <td>0.0</td>\n",
       "      <td>0.0</td>\n",
       "      <td>0.0</td>\n",
       "      <td>0.0</td>\n",
       "      <td>0</td>\n",
       "    </tr>\n",
       "    <tr>\n",
       "      <td>1</td>\n",
       "      <td>a</td>\n",
       "      <td>a</td>\n",
       "      <td>N</td>\n",
       "      <td>14720.0</td>\n",
       "      <td>33.0</td>\n",
       "      <td>-70.0</td>\n",
       "      <td>-79.0</td>\n",
       "      <td>a</td>\n",
       "      <td>1.0</td>\n",
       "      <td>0.0</td>\n",
       "      <td>1.0</td>\n",
       "      <td>0.0</td>\n",
       "      <td>0.0</td>\n",
       "      <td>2000.0</td>\n",
       "      <td>2000.0</td>\n",
       "      <td>0</td>\n",
       "    </tr>\n",
       "    <tr>\n",
       "      <td>2</td>\n",
       "      <td>a</td>\n",
       "      <td>a</td>\n",
       "      <td>N</td>\n",
       "      <td>8050.0</td>\n",
       "      <td>30.0</td>\n",
       "      <td>-81.0</td>\n",
       "      <td>-78.0</td>\n",
       "      <td>a</td>\n",
       "      <td>0.0</td>\n",
       "      <td>0.0</td>\n",
       "      <td>0.0</td>\n",
       "      <td>0.0</td>\n",
       "      <td>0.0</td>\n",
       "      <td>0.0</td>\n",
       "      <td>0.0</td>\n",
       "      <td>0</td>\n",
       "    </tr>\n",
       "    <tr>\n",
       "      <td>3</td>\n",
       "      <td>a</td>\n",
       "      <td>a</td>\n",
       "      <td>N</td>\n",
       "      <td>28820.0</td>\n",
       "      <td>171.0</td>\n",
       "      <td>-23.0</td>\n",
       "      <td>40.0</td>\n",
       "      <td>a</td>\n",
       "      <td>1.0</td>\n",
       "      <td>0.0</td>\n",
       "      <td>1.0</td>\n",
       "      <td>0.0</td>\n",
       "      <td>0.0</td>\n",
       "      <td>3000.0</td>\n",
       "      <td>3000.0</td>\n",
       "      <td>0</td>\n",
       "    </tr>\n",
       "    <tr>\n",
       "      <td>4</td>\n",
       "      <td>a</td>\n",
       "      <td>a</td>\n",
       "      <td>N</td>\n",
       "      <td>12640.0</td>\n",
       "      <td>57.0</td>\n",
       "      <td>-63.0</td>\n",
       "      <td>-52.0</td>\n",
       "      <td>a</td>\n",
       "      <td>0.0</td>\n",
       "      <td>0.0</td>\n",
       "      <td>0.0</td>\n",
       "      <td>0.0</td>\n",
       "      <td>0.0</td>\n",
       "      <td>0.0</td>\n",
       "      <td>0.0</td>\n",
       "      <td>0</td>\n",
       "    </tr>\n",
       "  </tbody>\n",
       "</table>\n",
       "</div>"
      ],
      "text/plain": [
       "  seismic seismoacoustic shift  genergy  gpuls  gdenergy  gdpuls ghazard  \\\n",
       "0       a              a     N  15180.0   48.0     -72.0   -72.0       a   \n",
       "1       a              a     N  14720.0   33.0     -70.0   -79.0       a   \n",
       "2       a              a     N   8050.0   30.0     -81.0   -78.0       a   \n",
       "3       a              a     N  28820.0  171.0     -23.0    40.0       a   \n",
       "4       a              a     N  12640.0   57.0     -63.0   -52.0       a   \n",
       "\n",
       "   nbumps  nbumps2  nbumps3  nbumps4  nbumps5  energy  maxenergy class  \n",
       "0     0.0      0.0      0.0      0.0      0.0     0.0        0.0     0  \n",
       "1     1.0      0.0      1.0      0.0      0.0  2000.0     2000.0     0  \n",
       "2     0.0      0.0      0.0      0.0      0.0     0.0        0.0     0  \n",
       "3     1.0      0.0      1.0      0.0      0.0  3000.0     3000.0     0  \n",
       "4     0.0      0.0      0.0      0.0      0.0     0.0        0.0     0  "
      ]
     },
     "execution_count": 6,
     "metadata": {},
     "output_type": "execute_result"
    }
   ],
   "source": [
    "df.head()"
   ]
  },
  {
   "cell_type": "code",
   "execution_count": 7,
   "metadata": {},
   "outputs": [
    {
     "name": "stdout",
     "output_type": "stream",
     "text": [
      "(2584, 16)\n",
      "Index(['seismic', 'seismoacoustic', 'shift', 'genergy', 'gpuls', 'gdenergy',\n",
      "       'gdpuls', 'ghazard', 'nbumps', 'nbumps2', 'nbumps3', 'nbumps4',\n",
      "       'nbumps5', 'energy', 'maxenergy', 'class'],\n",
      "      dtype='object')\n"
     ]
    }
   ],
   "source": [
    "print(df.shape)\n",
    "print(df.columns)"
   ]
  },
  {
   "cell_type": "code",
   "execution_count": 8,
   "metadata": {},
   "outputs": [
    {
     "data": {
      "text/html": [
       "<div>\n",
       "<style scoped>\n",
       "    .dataframe tbody tr th:only-of-type {\n",
       "        vertical-align: middle;\n",
       "    }\n",
       "\n",
       "    .dataframe tbody tr th {\n",
       "        vertical-align: top;\n",
       "    }\n",
       "\n",
       "    .dataframe thead th {\n",
       "        text-align: right;\n",
       "    }\n",
       "</style>\n",
       "<table border=\"1\" class=\"dataframe\">\n",
       "  <thead>\n",
       "    <tr style=\"text-align: right;\">\n",
       "      <th></th>\n",
       "      <th>genergy</th>\n",
       "      <th>gpuls</th>\n",
       "      <th>gdenergy</th>\n",
       "      <th>gdpuls</th>\n",
       "      <th>nbumps</th>\n",
       "      <th>nbumps2</th>\n",
       "      <th>nbumps3</th>\n",
       "      <th>nbumps4</th>\n",
       "      <th>nbumps5</th>\n",
       "      <th>energy</th>\n",
       "      <th>maxenergy</th>\n",
       "    </tr>\n",
       "  </thead>\n",
       "  <tbody>\n",
       "    <tr>\n",
       "      <td>count</td>\n",
       "      <td>2.584000e+03</td>\n",
       "      <td>2584.000000</td>\n",
       "      <td>2584.000000</td>\n",
       "      <td>2584.000000</td>\n",
       "      <td>2584.000000</td>\n",
       "      <td>2584.000000</td>\n",
       "      <td>2584.000000</td>\n",
       "      <td>2584.000000</td>\n",
       "      <td>2584.000000</td>\n",
       "      <td>2584.000000</td>\n",
       "      <td>2584.000000</td>\n",
       "    </tr>\n",
       "    <tr>\n",
       "      <td>mean</td>\n",
       "      <td>9.024252e+04</td>\n",
       "      <td>538.579334</td>\n",
       "      <td>12.375774</td>\n",
       "      <td>4.508901</td>\n",
       "      <td>0.859520</td>\n",
       "      <td>0.393576</td>\n",
       "      <td>0.392802</td>\n",
       "      <td>0.067724</td>\n",
       "      <td>0.004644</td>\n",
       "      <td>4975.270898</td>\n",
       "      <td>4278.850619</td>\n",
       "    </tr>\n",
       "    <tr>\n",
       "      <td>std</td>\n",
       "      <td>2.292005e+05</td>\n",
       "      <td>562.652536</td>\n",
       "      <td>80.319051</td>\n",
       "      <td>63.166556</td>\n",
       "      <td>1.364616</td>\n",
       "      <td>0.783772</td>\n",
       "      <td>0.769710</td>\n",
       "      <td>0.279059</td>\n",
       "      <td>0.068001</td>\n",
       "      <td>20450.833222</td>\n",
       "      <td>19357.454882</td>\n",
       "    </tr>\n",
       "    <tr>\n",
       "      <td>min</td>\n",
       "      <td>1.000000e+02</td>\n",
       "      <td>2.000000</td>\n",
       "      <td>-96.000000</td>\n",
       "      <td>-96.000000</td>\n",
       "      <td>0.000000</td>\n",
       "      <td>0.000000</td>\n",
       "      <td>0.000000</td>\n",
       "      <td>0.000000</td>\n",
       "      <td>0.000000</td>\n",
       "      <td>0.000000</td>\n",
       "      <td>0.000000</td>\n",
       "    </tr>\n",
       "    <tr>\n",
       "      <td>25%</td>\n",
       "      <td>1.166000e+04</td>\n",
       "      <td>190.000000</td>\n",
       "      <td>-37.000000</td>\n",
       "      <td>-36.000000</td>\n",
       "      <td>0.000000</td>\n",
       "      <td>0.000000</td>\n",
       "      <td>0.000000</td>\n",
       "      <td>0.000000</td>\n",
       "      <td>0.000000</td>\n",
       "      <td>0.000000</td>\n",
       "      <td>0.000000</td>\n",
       "    </tr>\n",
       "    <tr>\n",
       "      <td>50%</td>\n",
       "      <td>2.548500e+04</td>\n",
       "      <td>379.000000</td>\n",
       "      <td>-6.000000</td>\n",
       "      <td>-6.000000</td>\n",
       "      <td>0.000000</td>\n",
       "      <td>0.000000</td>\n",
       "      <td>0.000000</td>\n",
       "      <td>0.000000</td>\n",
       "      <td>0.000000</td>\n",
       "      <td>0.000000</td>\n",
       "      <td>0.000000</td>\n",
       "    </tr>\n",
       "    <tr>\n",
       "      <td>75%</td>\n",
       "      <td>5.283250e+04</td>\n",
       "      <td>669.000000</td>\n",
       "      <td>38.000000</td>\n",
       "      <td>30.250000</td>\n",
       "      <td>1.000000</td>\n",
       "      <td>1.000000</td>\n",
       "      <td>1.000000</td>\n",
       "      <td>0.000000</td>\n",
       "      <td>0.000000</td>\n",
       "      <td>2600.000000</td>\n",
       "      <td>2000.000000</td>\n",
       "    </tr>\n",
       "    <tr>\n",
       "      <td>max</td>\n",
       "      <td>2.595650e+06</td>\n",
       "      <td>4518.000000</td>\n",
       "      <td>1245.000000</td>\n",
       "      <td>838.000000</td>\n",
       "      <td>9.000000</td>\n",
       "      <td>8.000000</td>\n",
       "      <td>7.000000</td>\n",
       "      <td>3.000000</td>\n",
       "      <td>1.000000</td>\n",
       "      <td>402000.000000</td>\n",
       "      <td>400000.000000</td>\n",
       "    </tr>\n",
       "  </tbody>\n",
       "</table>\n",
       "</div>"
      ],
      "text/plain": [
       "            genergy        gpuls     gdenergy       gdpuls       nbumps  \\\n",
       "count  2.584000e+03  2584.000000  2584.000000  2584.000000  2584.000000   \n",
       "mean   9.024252e+04   538.579334    12.375774     4.508901     0.859520   \n",
       "std    2.292005e+05   562.652536    80.319051    63.166556     1.364616   \n",
       "min    1.000000e+02     2.000000   -96.000000   -96.000000     0.000000   \n",
       "25%    1.166000e+04   190.000000   -37.000000   -36.000000     0.000000   \n",
       "50%    2.548500e+04   379.000000    -6.000000    -6.000000     0.000000   \n",
       "75%    5.283250e+04   669.000000    38.000000    30.250000     1.000000   \n",
       "max    2.595650e+06  4518.000000  1245.000000   838.000000     9.000000   \n",
       "\n",
       "           nbumps2      nbumps3      nbumps4      nbumps5         energy  \\\n",
       "count  2584.000000  2584.000000  2584.000000  2584.000000    2584.000000   \n",
       "mean      0.393576     0.392802     0.067724     0.004644    4975.270898   \n",
       "std       0.783772     0.769710     0.279059     0.068001   20450.833222   \n",
       "min       0.000000     0.000000     0.000000     0.000000       0.000000   \n",
       "25%       0.000000     0.000000     0.000000     0.000000       0.000000   \n",
       "50%       0.000000     0.000000     0.000000     0.000000       0.000000   \n",
       "75%       1.000000     1.000000     0.000000     0.000000    2600.000000   \n",
       "max       8.000000     7.000000     3.000000     1.000000  402000.000000   \n",
       "\n",
       "           maxenergy  \n",
       "count    2584.000000  \n",
       "mean     4278.850619  \n",
       "std     19357.454882  \n",
       "min         0.000000  \n",
       "25%         0.000000  \n",
       "50%         0.000000  \n",
       "75%      2000.000000  \n",
       "max    400000.000000  "
      ]
     },
     "execution_count": 8,
     "metadata": {},
     "output_type": "execute_result"
    }
   ],
   "source": [
    "df.describe()"
   ]
  },
  {
   "cell_type": "code",
   "execution_count": 9,
   "metadata": {},
   "outputs": [
    {
     "data": {
      "image/png": "[encoded data removed]",
      "text/plain": [
       "<Figure size 1440x1440 with 121 Axes>"
      ]
     },
     "metadata": {
      "needs_background": "light"
     },
     "output_type": "display_data"
    }
   ],
   "source": [
    "from pandas.plotting import scatter_matrix\n",
    "scatter_matrix(df, alpha = .01, figsize = (20, 20))\n",
    "pass"
   ]
  },
  {
   "cell_type": "markdown",
   "metadata": {},
   "source": [
    "## Проверка данных на коррелированность"
   ]
  },
  {
   "cell_type": "code",
   "execution_count": 10,
   "metadata": {},
   "outputs": [
    {
     "data": {
      "text/html": [
       "<div>\n",
       "<style scoped>\n",
       "    .dataframe tbody tr th:only-of-type {\n",
       "        vertical-align: middle;\n",
       "    }\n",
       "\n",
       "    .dataframe tbody tr th {\n",
       "        vertical-align: top;\n",
       "    }\n",
       "\n",
       "    .dataframe thead th {\n",
       "        text-align: right;\n",
       "    }\n",
       "</style>\n",
       "<table border=\"1\" class=\"dataframe\">\n",
       "  <thead>\n",
       "    <tr style=\"text-align: right;\">\n",
       "      <th></th>\n",
       "      <th>genergy</th>\n",
       "      <th>gpuls</th>\n",
       "      <th>gdenergy</th>\n",
       "      <th>gdpuls</th>\n",
       "      <th>nbumps</th>\n",
       "      <th>nbumps2</th>\n",
       "      <th>nbumps3</th>\n",
       "      <th>nbumps4</th>\n",
       "      <th>nbumps5</th>\n",
       "      <th>energy</th>\n",
       "      <th>maxenergy</th>\n",
       "    </tr>\n",
       "  </thead>\n",
       "  <tbody>\n",
       "    <tr>\n",
       "      <td>genergy</td>\n",
       "      <td>1.000000</td>\n",
       "      <td>0.748020</td>\n",
       "      <td>0.048514</td>\n",
       "      <td>0.071554</td>\n",
       "      <td>0.220720</td>\n",
       "      <td>0.143587</td>\n",
       "      <td>0.191753</td>\n",
       "      <td>0.150589</td>\n",
       "      <td>-0.009863</td>\n",
       "      <td>0.080828</td>\n",
       "      <td>0.064405</td>\n",
       "    </tr>\n",
       "    <tr>\n",
       "      <td>gpuls</td>\n",
       "      <td>0.748020</td>\n",
       "      <td>1.000000</td>\n",
       "      <td>0.293036</td>\n",
       "      <td>0.382906</td>\n",
       "      <td>0.300923</td>\n",
       "      <td>0.207390</td>\n",
       "      <td>0.225695</td>\n",
       "      <td>0.256547</td>\n",
       "      <td>0.049450</td>\n",
       "      <td>0.187350</td>\n",
       "      <td>0.164263</td>\n",
       "    </tr>\n",
       "    <tr>\n",
       "      <td>gdenergy</td>\n",
       "      <td>0.048514</td>\n",
       "      <td>0.293036</td>\n",
       "      <td>1.000000</td>\n",
       "      <td>0.811944</td>\n",
       "      <td>0.030039</td>\n",
       "      <td>0.041246</td>\n",
       "      <td>-0.012189</td>\n",
       "      <td>0.036916</td>\n",
       "      <td>0.123229</td>\n",
       "      <td>0.105971</td>\n",
       "      <td>0.108572</td>\n",
       "    </tr>\n",
       "    <tr>\n",
       "      <td>gdpuls</td>\n",
       "      <td>0.071554</td>\n",
       "      <td>0.382906</td>\n",
       "      <td>0.811944</td>\n",
       "      <td>1.000000</td>\n",
       "      <td>0.057996</td>\n",
       "      <td>0.051106</td>\n",
       "      <td>0.014735</td>\n",
       "      <td>0.066195</td>\n",
       "      <td>0.141044</td>\n",
       "      <td>0.143277</td>\n",
       "      <td>0.143646</td>\n",
       "    </tr>\n",
       "    <tr>\n",
       "      <td>nbumps</td>\n",
       "      <td>0.220720</td>\n",
       "      <td>0.300923</td>\n",
       "      <td>0.030039</td>\n",
       "      <td>0.057996</td>\n",
       "      <td>1.000000</td>\n",
       "      <td>0.804978</td>\n",
       "      <td>0.803364</td>\n",
       "      <td>0.395052</td>\n",
       "      <td>0.069613</td>\n",
       "      <td>0.347852</td>\n",
       "      <td>0.273714</td>\n",
       "    </tr>\n",
       "    <tr>\n",
       "      <td>nbumps2</td>\n",
       "      <td>0.143587</td>\n",
       "      <td>0.207390</td>\n",
       "      <td>0.041246</td>\n",
       "      <td>0.051106</td>\n",
       "      <td>0.804978</td>\n",
       "      <td>1.000000</td>\n",
       "      <td>0.350724</td>\n",
       "      <td>0.161296</td>\n",
       "      <td>-0.005251</td>\n",
       "      <td>0.124650</td>\n",
       "      <td>0.085032</td>\n",
       "    </tr>\n",
       "    <tr>\n",
       "      <td>nbumps3</td>\n",
       "      <td>0.191753</td>\n",
       "      <td>0.225695</td>\n",
       "      <td>-0.012189</td>\n",
       "      <td>0.014735</td>\n",
       "      <td>0.803364</td>\n",
       "      <td>0.350724</td>\n",
       "      <td>1.000000</td>\n",
       "      <td>0.175301</td>\n",
       "      <td>0.046498</td>\n",
       "      <td>0.244083</td>\n",
       "      <td>0.176480</td>\n",
       "    </tr>\n",
       "    <tr>\n",
       "      <td>nbumps4</td>\n",
       "      <td>0.150589</td>\n",
       "      <td>0.256547</td>\n",
       "      <td>0.036916</td>\n",
       "      <td>0.066195</td>\n",
       "      <td>0.395052</td>\n",
       "      <td>0.161296</td>\n",
       "      <td>0.175301</td>\n",
       "      <td>1.000000</td>\n",
       "      <td>-0.016580</td>\n",
       "      <td>0.489828</td>\n",
       "      <td>0.416483</td>\n",
       "    </tr>\n",
       "    <tr>\n",
       "      <td>nbumps5</td>\n",
       "      <td>-0.009863</td>\n",
       "      <td>0.049450</td>\n",
       "      <td>0.123229</td>\n",
       "      <td>0.141044</td>\n",
       "      <td>0.069613</td>\n",
       "      <td>-0.005251</td>\n",
       "      <td>0.046498</td>\n",
       "      <td>-0.016580</td>\n",
       "      <td>1.000000</td>\n",
       "      <td>0.773605</td>\n",
       "      <td>0.808406</td>\n",
       "    </tr>\n",
       "    <tr>\n",
       "      <td>energy</td>\n",
       "      <td>0.080828</td>\n",
       "      <td>0.187350</td>\n",
       "      <td>0.105971</td>\n",
       "      <td>0.143277</td>\n",
       "      <td>0.347852</td>\n",
       "      <td>0.124650</td>\n",
       "      <td>0.244083</td>\n",
       "      <td>0.489828</td>\n",
       "      <td>0.773605</td>\n",
       "      <td>1.000000</td>\n",
       "      <td>0.989547</td>\n",
       "    </tr>\n",
       "    <tr>\n",
       "      <td>maxenergy</td>\n",
       "      <td>0.064405</td>\n",
       "      <td>0.164263</td>\n",
       "      <td>0.108572</td>\n",
       "      <td>0.143646</td>\n",
       "      <td>0.273714</td>\n",
       "      <td>0.085032</td>\n",
       "      <td>0.176480</td>\n",
       "      <td>0.416483</td>\n",
       "      <td>0.808406</td>\n",
       "      <td>0.989547</td>\n",
       "      <td>1.000000</td>\n",
       "    </tr>\n",
       "  </tbody>\n",
       "</table>\n",
       "</div>"
      ],
      "text/plain": [
       "            genergy     gpuls  gdenergy    gdpuls    nbumps   nbumps2  \\\n",
       "genergy    1.000000  0.748020  0.048514  0.071554  0.220720  0.143587   \n",
       "gpuls      0.748020  1.000000  0.293036  0.382906  0.300923  0.207390   \n",
       "gdenergy   0.048514  0.293036  1.000000  0.811944  0.030039  0.041246   \n",
       "gdpuls     0.071554  0.382906  0.811944  1.000000  0.057996  0.051106   \n",
       "nbumps     0.220720  0.300923  0.030039  0.057996  1.000000  0.804978   \n",
       "nbumps2    0.143587  0.207390  0.041246  0.051106  0.804978  1.000000   \n",
       "nbumps3    0.191753  0.225695 -0.012189  0.014735  0.803364  0.350724   \n",
       "nbumps4    0.150589  0.256547  0.036916  0.066195  0.395052  0.161296   \n",
       "nbumps5   -0.009863  0.049450  0.123229  0.141044  0.069613 -0.005251   \n",
       "energy     0.080828  0.187350  0.105971  0.143277  0.347852  0.124650   \n",
       "maxenergy  0.064405  0.164263  0.108572  0.143646  0.273714  0.085032   \n",
       "\n",
       "            nbumps3   nbumps4   nbumps5    energy  maxenergy  \n",
       "genergy    0.191753  0.150589 -0.009863  0.080828   0.064405  \n",
       "gpuls      0.225695  0.256547  0.049450  0.187350   0.164263  \n",
       "gdenergy  -0.012189  0.036916  0.123229  0.105971   0.108572  \n",
       "gdpuls     0.014735  0.066195  0.141044  0.143277   0.143646  \n",
       "nbumps     0.803364  0.395052  0.069613  0.347852   0.273714  \n",
       "nbumps2    0.350724  0.161296 -0.005251  0.124650   0.085032  \n",
       "nbumps3    1.000000  0.175301  0.046498  0.244083   0.176480  \n",
       "nbumps4    0.175301  1.000000 -0.016580  0.489828   0.416483  \n",
       "nbumps5    0.046498 -0.016580  1.000000  0.773605   0.808406  \n",
       "energy     0.244083  0.489828  0.773605  1.000000   0.989547  \n",
       "maxenergy  0.176480  0.416483  0.808406  0.989547   1.000000  "
      ]
     },
     "execution_count": 10,
     "metadata": {},
     "output_type": "execute_result"
    }
   ],
   "source": [
    "df.corr()"
   ]
  },
  {
   "cell_type": "markdown",
   "metadata": {},
   "source": [
    "## Проверка данных на пропущенные значения"
   ]
  },
  {
   "cell_type": "code",
   "execution_count": 11,
   "metadata": {},
   "outputs": [
    {
     "data": {
      "text/plain": [
       "False"
      ]
     },
     "execution_count": 11,
     "metadata": {},
     "output_type": "execute_result"
    }
   ],
   "source": [
    "df.isnull().values.any()"
   ]
  },
  {
   "cell_type": "code",
   "execution_count": 12,
   "metadata": {},
   "outputs": [],
   "source": [
    "#df['seismic'].value_counts().plot.barh();"
   ]
  },
  {
   "cell_type": "code",
   "execution_count": 13,
   "metadata": {},
   "outputs": [],
   "source": [
    "#df['seismoacoustic'].value_counts().plot.barh();"
   ]
  },
  {
   "cell_type": "code",
   "execution_count": 14,
   "metadata": {},
   "outputs": [
    {
     "data": {
      "text/html": [
       "<div>\n",
       "<style scoped>\n",
       "    .dataframe tbody tr th:only-of-type {\n",
       "        vertical-align: middle;\n",
       "    }\n",
       "\n",
       "    .dataframe tbody tr th {\n",
       "        vertical-align: top;\n",
       "    }\n",
       "\n",
       "    .dataframe thead th {\n",
       "        text-align: right;\n",
       "    }\n",
       "</style>\n",
       "<table border=\"1\" class=\"dataframe\">\n",
       "  <thead>\n",
       "    <tr style=\"text-align: right;\">\n",
       "      <th></th>\n",
       "      <th>seismic</th>\n",
       "      <th>seismoacoustic</th>\n",
       "      <th>shift</th>\n",
       "      <th>genergy</th>\n",
       "      <th>gpuls</th>\n",
       "      <th>gdenergy</th>\n",
       "      <th>gdpuls</th>\n",
       "      <th>ghazard</th>\n",
       "      <th>nbumps</th>\n",
       "      <th>nbumps2</th>\n",
       "      <th>nbumps3</th>\n",
       "      <th>nbumps4</th>\n",
       "      <th>nbumps5</th>\n",
       "      <th>energy</th>\n",
       "      <th>maxenergy</th>\n",
       "      <th>class</th>\n",
       "    </tr>\n",
       "  </thead>\n",
       "  <tbody>\n",
       "    <tr>\n",
       "      <td>count</td>\n",
       "      <td>2584</td>\n",
       "      <td>2584</td>\n",
       "      <td>2584</td>\n",
       "      <td>2.584000e+03</td>\n",
       "      <td>2584.000000</td>\n",
       "      <td>2584.000000</td>\n",
       "      <td>2584.000000</td>\n",
       "      <td>2584</td>\n",
       "      <td>2584.000000</td>\n",
       "      <td>2584.000000</td>\n",
       "      <td>2584.000000</td>\n",
       "      <td>2584.000000</td>\n",
       "      <td>2584.000000</td>\n",
       "      <td>2584.000000</td>\n",
       "      <td>2584.000000</td>\n",
       "      <td>2584</td>\n",
       "    </tr>\n",
       "    <tr>\n",
       "      <td>unique</td>\n",
       "      <td>2</td>\n",
       "      <td>3</td>\n",
       "      <td>2</td>\n",
       "      <td>NaN</td>\n",
       "      <td>NaN</td>\n",
       "      <td>NaN</td>\n",
       "      <td>NaN</td>\n",
       "      <td>3</td>\n",
       "      <td>NaN</td>\n",
       "      <td>NaN</td>\n",
       "      <td>NaN</td>\n",
       "      <td>NaN</td>\n",
       "      <td>NaN</td>\n",
       "      <td>NaN</td>\n",
       "      <td>NaN</td>\n",
       "      <td>2</td>\n",
       "    </tr>\n",
       "    <tr>\n",
       "      <td>top</td>\n",
       "      <td>a</td>\n",
       "      <td>a</td>\n",
       "      <td>W</td>\n",
       "      <td>NaN</td>\n",
       "      <td>NaN</td>\n",
       "      <td>NaN</td>\n",
       "      <td>NaN</td>\n",
       "      <td>a</td>\n",
       "      <td>NaN</td>\n",
       "      <td>NaN</td>\n",
       "      <td>NaN</td>\n",
       "      <td>NaN</td>\n",
       "      <td>NaN</td>\n",
       "      <td>NaN</td>\n",
       "      <td>NaN</td>\n",
       "      <td>0</td>\n",
       "    </tr>\n",
       "    <tr>\n",
       "      <td>freq</td>\n",
       "      <td>1682</td>\n",
       "      <td>1580</td>\n",
       "      <td>1663</td>\n",
       "      <td>NaN</td>\n",
       "      <td>NaN</td>\n",
       "      <td>NaN</td>\n",
       "      <td>NaN</td>\n",
       "      <td>2342</td>\n",
       "      <td>NaN</td>\n",
       "      <td>NaN</td>\n",
       "      <td>NaN</td>\n",
       "      <td>NaN</td>\n",
       "      <td>NaN</td>\n",
       "      <td>NaN</td>\n",
       "      <td>NaN</td>\n",
       "      <td>2414</td>\n",
       "    </tr>\n",
       "    <tr>\n",
       "      <td>mean</td>\n",
       "      <td>NaN</td>\n",
       "      <td>NaN</td>\n",
       "      <td>NaN</td>\n",
       "      <td>9.024252e+04</td>\n",
       "      <td>538.579334</td>\n",
       "      <td>12.375774</td>\n",
       "      <td>4.508901</td>\n",
       "      <td>NaN</td>\n",
       "      <td>0.859520</td>\n",
       "      <td>0.393576</td>\n",
       "      <td>0.392802</td>\n",
       "      <td>0.067724</td>\n",
       "      <td>0.004644</td>\n",
       "      <td>4975.270898</td>\n",
       "      <td>4278.850619</td>\n",
       "      <td>NaN</td>\n",
       "    </tr>\n",
       "    <tr>\n",
       "      <td>std</td>\n",
       "      <td>NaN</td>\n",
       "      <td>NaN</td>\n",
       "      <td>NaN</td>\n",
       "      <td>2.292005e+05</td>\n",
       "      <td>562.652536</td>\n",
       "      <td>80.319051</td>\n",
       "      <td>63.166556</td>\n",
       "      <td>NaN</td>\n",
       "      <td>1.364616</td>\n",
       "      <td>0.783772</td>\n",
       "      <td>0.769710</td>\n",
       "      <td>0.279059</td>\n",
       "      <td>0.068001</td>\n",
       "      <td>20450.833222</td>\n",
       "      <td>19357.454882</td>\n",
       "      <td>NaN</td>\n",
       "    </tr>\n",
       "    <tr>\n",
       "      <td>min</td>\n",
       "      <td>NaN</td>\n",
       "      <td>NaN</td>\n",
       "      <td>NaN</td>\n",
       "      <td>1.000000e+02</td>\n",
       "      <td>2.000000</td>\n",
       "      <td>-96.000000</td>\n",
       "      <td>-96.000000</td>\n",
       "      <td>NaN</td>\n",
       "      <td>0.000000</td>\n",
       "      <td>0.000000</td>\n",
       "      <td>0.000000</td>\n",
       "      <td>0.000000</td>\n",
       "      <td>0.000000</td>\n",
       "      <td>0.000000</td>\n",
       "      <td>0.000000</td>\n",
       "      <td>NaN</td>\n",
       "    </tr>\n",
       "    <tr>\n",
       "      <td>25%</td>\n",
       "      <td>NaN</td>\n",
       "      <td>NaN</td>\n",
       "      <td>NaN</td>\n",
       "      <td>1.166000e+04</td>\n",
       "      <td>190.000000</td>\n",
       "      <td>-37.000000</td>\n",
       "      <td>-36.000000</td>\n",
       "      <td>NaN</td>\n",
       "      <td>0.000000</td>\n",
       "      <td>0.000000</td>\n",
       "      <td>0.000000</td>\n",
       "      <td>0.000000</td>\n",
       "      <td>0.000000</td>\n",
       "      <td>0.000000</td>\n",
       "      <td>0.000000</td>\n",
       "      <td>NaN</td>\n",
       "    </tr>\n",
       "    <tr>\n",
       "      <td>50%</td>\n",
       "      <td>NaN</td>\n",
       "      <td>NaN</td>\n",
       "      <td>NaN</td>\n",
       "      <td>2.548500e+04</td>\n",
       "      <td>379.000000</td>\n",
       "      <td>-6.000000</td>\n",
       "      <td>-6.000000</td>\n",
       "      <td>NaN</td>\n",
       "      <td>0.000000</td>\n",
       "      <td>0.000000</td>\n",
       "      <td>0.000000</td>\n",
       "      <td>0.000000</td>\n",
       "      <td>0.000000</td>\n",
       "      <td>0.000000</td>\n",
       "      <td>0.000000</td>\n",
       "      <td>NaN</td>\n",
       "    </tr>\n",
       "    <tr>\n",
       "      <td>75%</td>\n",
       "      <td>NaN</td>\n",
       "      <td>NaN</td>\n",
       "      <td>NaN</td>\n",
       "      <td>5.283250e+04</td>\n",
       "      <td>669.000000</td>\n",
       "      <td>38.000000</td>\n",
       "      <td>30.250000</td>\n",
       "      <td>NaN</td>\n",
       "      <td>1.000000</td>\n",
       "      <td>1.000000</td>\n",
       "      <td>1.000000</td>\n",
       "      <td>0.000000</td>\n",
       "      <td>0.000000</td>\n",
       "      <td>2600.000000</td>\n",
       "      <td>2000.000000</td>\n",
       "      <td>NaN</td>\n",
       "    </tr>\n",
       "    <tr>\n",
       "      <td>max</td>\n",
       "      <td>NaN</td>\n",
       "      <td>NaN</td>\n",
       "      <td>NaN</td>\n",
       "      <td>2.595650e+06</td>\n",
       "      <td>4518.000000</td>\n",
       "      <td>1245.000000</td>\n",
       "      <td>838.000000</td>\n",
       "      <td>NaN</td>\n",
       "      <td>9.000000</td>\n",
       "      <td>8.000000</td>\n",
       "      <td>7.000000</td>\n",
       "      <td>3.000000</td>\n",
       "      <td>1.000000</td>\n",
       "      <td>402000.000000</td>\n",
       "      <td>400000.000000</td>\n",
       "      <td>NaN</td>\n",
       "    </tr>\n",
       "  </tbody>\n",
       "</table>\n",
       "</div>"
      ],
      "text/plain": [
       "       seismic seismoacoustic shift       genergy        gpuls     gdenergy  \\\n",
       "count     2584           2584  2584  2.584000e+03  2584.000000  2584.000000   \n",
       "unique       2              3     2           NaN          NaN          NaN   \n",
       "top          a              a     W           NaN          NaN          NaN   \n",
       "freq      1682           1580  1663           NaN          NaN          NaN   \n",
       "mean       NaN            NaN   NaN  9.024252e+04   538.579334    12.375774   \n",
       "std        NaN            NaN   NaN  2.292005e+05   562.652536    80.319051   \n",
       "min        NaN            NaN   NaN  1.000000e+02     2.000000   -96.000000   \n",
       "25%        NaN            NaN   NaN  1.166000e+04   190.000000   -37.000000   \n",
       "50%        NaN            NaN   NaN  2.548500e+04   379.000000    -6.000000   \n",
       "75%        NaN            NaN   NaN  5.283250e+04   669.000000    38.000000   \n",
       "max        NaN            NaN   NaN  2.595650e+06  4518.000000  1245.000000   \n",
       "\n",
       "             gdpuls ghazard       nbumps      nbumps2      nbumps3  \\\n",
       "count   2584.000000    2584  2584.000000  2584.000000  2584.000000   \n",
       "unique          NaN       3          NaN          NaN          NaN   \n",
       "top             NaN       a          NaN          NaN          NaN   \n",
       "freq            NaN    2342          NaN          NaN          NaN   \n",
       "mean       4.508901     NaN     0.859520     0.393576     0.392802   \n",
       "std       63.166556     NaN     1.364616     0.783772     0.769710   \n",
       "min      -96.000000     NaN     0.000000     0.000000     0.000000   \n",
       "25%      -36.000000     NaN     0.000000     0.000000     0.000000   \n",
       "50%       -6.000000     NaN     0.000000     0.000000     0.000000   \n",
       "75%       30.250000     NaN     1.000000     1.000000     1.000000   \n",
       "max      838.000000     NaN     9.000000     8.000000     7.000000   \n",
       "\n",
       "            nbumps4      nbumps5         energy      maxenergy class  \n",
       "count   2584.000000  2584.000000    2584.000000    2584.000000  2584  \n",
       "unique          NaN          NaN            NaN            NaN     2  \n",
       "top             NaN          NaN            NaN            NaN     0  \n",
       "freq            NaN          NaN            NaN            NaN  2414  \n",
       "mean       0.067724     0.004644    4975.270898    4278.850619   NaN  \n",
       "std        0.279059     0.068001   20450.833222   19357.454882   NaN  \n",
       "min        0.000000     0.000000       0.000000       0.000000   NaN  \n",
       "25%        0.000000     0.000000       0.000000       0.000000   NaN  \n",
       "50%        0.000000     0.000000       0.000000       0.000000   NaN  \n",
       "75%        0.000000     0.000000    2600.000000    2000.000000   NaN  \n",
       "max        3.000000     1.000000  402000.000000  400000.000000   NaN  "
      ]
     },
     "execution_count": 14,
     "metadata": {},
     "output_type": "execute_result"
    }
   ],
   "source": [
    "df.describe(include = 'all')"
   ]
  },
  {
   "cell_type": "code",
   "execution_count": 15,
   "metadata": {},
   "outputs": [],
   "source": [
    "#seismic_unique = df['seismic'].unique()\n",
    "#seismic_unique.insert\n",
    "#for c in categorical_columns:\n",
    "    #print(c, df[c].unique())\n",
    "#print(seismic_unique)"
   ]
  },
  {
   "cell_type": "code",
   "execution_count": 16,
   "metadata": {},
   "outputs": [],
   "source": [
    "df_describe = df.describe(include = [object])\n",
    "#for c in categorical_columns:\n",
    "#    df[c] = df[c].fillna(df_describe[c]['top'])"
   ]
  },
  {
   "cell_type": "markdown",
   "metadata": {},
   "source": [
    "## Обработка категориальных данных\n",
    "Разделяю категориальные признаки на бинарные и небинарные"
   ]
  },
  {
   "cell_type": "code",
   "execution_count": 17,
   "metadata": {},
   "outputs": [
    {
     "name": "stdout",
     "output_type": "stream",
     "text": [
      "['seismic', 'shift', 'class'] ['seismoacoustic', 'ghazard']\n"
     ]
    }
   ],
   "source": [
    "binary_columns    = [c for c in categorical_columns if df_describe[c]['unique'] == 2]\n",
    "nonbinary_columns = [c for c in categorical_columns if df_describe[c]['unique'] > 2]\n",
    "print(binary_columns, nonbinary_columns)"
   ]
  },
  {
   "cell_type": "code",
   "execution_count": 18,
   "metadata": {},
   "outputs": [
    {
     "data": {
      "text/plain": [
       "array(['a', 'b'], dtype=object)"
      ]
     },
     "execution_count": 18,
     "metadata": {},
     "output_type": "execute_result"
    }
   ],
   "source": [
    "df['seismic'].unique()"
   ]
  },
  {
   "cell_type": "code",
   "execution_count": 19,
   "metadata": {},
   "outputs": [
    {
     "data": {
      "text/plain": [
       "count    2584.000000\n",
       "mean        0.643576\n",
       "std         0.479035\n",
       "min         0.000000\n",
       "25%         0.000000\n",
       "50%         1.000000\n",
       "75%         1.000000\n",
       "max         1.000000\n",
       "Name: shift, dtype: float64"
      ]
     },
     "execution_count": 19,
     "metadata": {},
     "output_type": "execute_result"
    }
   ],
   "source": [
    "df.at[df['shift'] == 'N', 'shift'] = 0\n",
    "df.at[df['shift'] == 'W', 'shift'] = 1\n",
    "df['shift'].describe()"
   ]
  },
  {
   "cell_type": "code",
   "execution_count": 20,
   "metadata": {},
   "outputs": [
    {
     "data": {
      "text/plain": [
       "count    2584.000000\n",
       "mean        0.349071\n",
       "std         0.476769\n",
       "min         0.000000\n",
       "25%         0.000000\n",
       "50%         0.000000\n",
       "75%         1.000000\n",
       "max         1.000000\n",
       "Name: seismic, dtype: float64"
      ]
     },
     "execution_count": 20,
     "metadata": {},
     "output_type": "execute_result"
    }
   ],
   "source": [
    "df.at[df['seismic'] == 'a', 'seismic'] = 0\n",
    "df.at[df['seismic'] == 'b', 'seismic'] = 1\n",
    "df['seismic'].describe()"
   ]
  },
  {
   "cell_type": "code",
   "execution_count": 21,
   "metadata": {},
   "outputs": [],
   "source": [
    "#df[nonbinary_columns]"
   ]
  },
  {
   "cell_type": "markdown",
   "metadata": {},
   "source": [
    "Применяю one hot encoding к небинарным категориальным признакам"
   ]
  },
  {
   "cell_type": "code",
   "execution_count": 22,
   "metadata": {},
   "outputs": [
    {
     "name": "stdout",
     "output_type": "stream",
     "text": [
      "Index(['seismoacoustic_a', 'seismoacoustic_b', 'seismoacoustic_c', 'ghazard_a',\n",
      "       'ghazard_b', 'ghazard_c'],\n",
      "      dtype='object')\n"
     ]
    }
   ],
   "source": [
    "df_nonbinary = pd.get_dummies(df[nonbinary_columns])\n",
    "print(df_nonbinary.columns)"
   ]
  },
  {
   "cell_type": "code",
   "execution_count": 23,
   "metadata": {},
   "outputs": [
    {
     "data": {
      "text/plain": [
       "6"
      ]
     },
     "execution_count": 23,
     "metadata": {},
     "output_type": "execute_result"
    }
   ],
   "source": [
    "len(df_nonbinary.columns)"
   ]
  },
  {
   "cell_type": "markdown",
   "metadata": {},
   "source": [
    "## Обработка числовых признаков\n",
    "Выделяю числовые признаки"
   ]
  },
  {
   "cell_type": "code",
   "execution_count": 24,
   "metadata": {},
   "outputs": [
    {
     "data": {
      "text/html": [
       "<div>\n",
       "<style scoped>\n",
       "    .dataframe tbody tr th:only-of-type {\n",
       "        vertical-align: middle;\n",
       "    }\n",
       "\n",
       "    .dataframe tbody tr th {\n",
       "        vertical-align: top;\n",
       "    }\n",
       "\n",
       "    .dataframe thead th {\n",
       "        text-align: right;\n",
       "    }\n",
       "</style>\n",
       "<table border=\"1\" class=\"dataframe\">\n",
       "  <thead>\n",
       "    <tr style=\"text-align: right;\">\n",
       "      <th></th>\n",
       "      <th>genergy</th>\n",
       "      <th>gpuls</th>\n",
       "      <th>gdenergy</th>\n",
       "      <th>gdpuls</th>\n",
       "      <th>nbumps</th>\n",
       "      <th>nbumps2</th>\n",
       "      <th>nbumps3</th>\n",
       "      <th>nbumps4</th>\n",
       "      <th>nbumps5</th>\n",
       "      <th>energy</th>\n",
       "      <th>maxenergy</th>\n",
       "    </tr>\n",
       "  </thead>\n",
       "  <tbody>\n",
       "    <tr>\n",
       "      <td>count</td>\n",
       "      <td>2.584000e+03</td>\n",
       "      <td>2584.000000</td>\n",
       "      <td>2584.000000</td>\n",
       "      <td>2584.000000</td>\n",
       "      <td>2584.000000</td>\n",
       "      <td>2584.000000</td>\n",
       "      <td>2584.000000</td>\n",
       "      <td>2584.000000</td>\n",
       "      <td>2584.000000</td>\n",
       "      <td>2584.000000</td>\n",
       "      <td>2584.000000</td>\n",
       "    </tr>\n",
       "    <tr>\n",
       "      <td>mean</td>\n",
       "      <td>9.024252e+04</td>\n",
       "      <td>538.579334</td>\n",
       "      <td>12.375774</td>\n",
       "      <td>4.508901</td>\n",
       "      <td>0.859520</td>\n",
       "      <td>0.393576</td>\n",
       "      <td>0.392802</td>\n",
       "      <td>0.067724</td>\n",
       "      <td>0.004644</td>\n",
       "      <td>4975.270898</td>\n",
       "      <td>4278.850619</td>\n",
       "    </tr>\n",
       "    <tr>\n",
       "      <td>std</td>\n",
       "      <td>2.292005e+05</td>\n",
       "      <td>562.652536</td>\n",
       "      <td>80.319051</td>\n",
       "      <td>63.166556</td>\n",
       "      <td>1.364616</td>\n",
       "      <td>0.783772</td>\n",
       "      <td>0.769710</td>\n",
       "      <td>0.279059</td>\n",
       "      <td>0.068001</td>\n",
       "      <td>20450.833222</td>\n",
       "      <td>19357.454882</td>\n",
       "    </tr>\n",
       "    <tr>\n",
       "      <td>min</td>\n",
       "      <td>1.000000e+02</td>\n",
       "      <td>2.000000</td>\n",
       "      <td>-96.000000</td>\n",
       "      <td>-96.000000</td>\n",
       "      <td>0.000000</td>\n",
       "      <td>0.000000</td>\n",
       "      <td>0.000000</td>\n",
       "      <td>0.000000</td>\n",
       "      <td>0.000000</td>\n",
       "      <td>0.000000</td>\n",
       "      <td>0.000000</td>\n",
       "    </tr>\n",
       "    <tr>\n",
       "      <td>25%</td>\n",
       "      <td>1.166000e+04</td>\n",
       "      <td>190.000000</td>\n",
       "      <td>-37.000000</td>\n",
       "      <td>-36.000000</td>\n",
       "      <td>0.000000</td>\n",
       "      <td>0.000000</td>\n",
       "      <td>0.000000</td>\n",
       "      <td>0.000000</td>\n",
       "      <td>0.000000</td>\n",
       "      <td>0.000000</td>\n",
       "      <td>0.000000</td>\n",
       "    </tr>\n",
       "    <tr>\n",
       "      <td>50%</td>\n",
       "      <td>2.548500e+04</td>\n",
       "      <td>379.000000</td>\n",
       "      <td>-6.000000</td>\n",
       "      <td>-6.000000</td>\n",
       "      <td>0.000000</td>\n",
       "      <td>0.000000</td>\n",
       "      <td>0.000000</td>\n",
       "      <td>0.000000</td>\n",
       "      <td>0.000000</td>\n",
       "      <td>0.000000</td>\n",
       "      <td>0.000000</td>\n",
       "    </tr>\n",
       "    <tr>\n",
       "      <td>75%</td>\n",
       "      <td>5.283250e+04</td>\n",
       "      <td>669.000000</td>\n",
       "      <td>38.000000</td>\n",
       "      <td>30.250000</td>\n",
       "      <td>1.000000</td>\n",
       "      <td>1.000000</td>\n",
       "      <td>1.000000</td>\n",
       "      <td>0.000000</td>\n",
       "      <td>0.000000</td>\n",
       "      <td>2600.000000</td>\n",
       "      <td>2000.000000</td>\n",
       "    </tr>\n",
       "    <tr>\n",
       "      <td>max</td>\n",
       "      <td>2.595650e+06</td>\n",
       "      <td>4518.000000</td>\n",
       "      <td>1245.000000</td>\n",
       "      <td>838.000000</td>\n",
       "      <td>9.000000</td>\n",
       "      <td>8.000000</td>\n",
       "      <td>7.000000</td>\n",
       "      <td>3.000000</td>\n",
       "      <td>1.000000</td>\n",
       "      <td>402000.000000</td>\n",
       "      <td>400000.000000</td>\n",
       "    </tr>\n",
       "  </tbody>\n",
       "</table>\n",
       "</div>"
      ],
      "text/plain": [
       "            genergy        gpuls     gdenergy       gdpuls       nbumps  \\\n",
       "count  2.584000e+03  2584.000000  2584.000000  2584.000000  2584.000000   \n",
       "mean   9.024252e+04   538.579334    12.375774     4.508901     0.859520   \n",
       "std    2.292005e+05   562.652536    80.319051    63.166556     1.364616   \n",
       "min    1.000000e+02     2.000000   -96.000000   -96.000000     0.000000   \n",
       "25%    1.166000e+04   190.000000   -37.000000   -36.000000     0.000000   \n",
       "50%    2.548500e+04   379.000000    -6.000000    -6.000000     0.000000   \n",
       "75%    5.283250e+04   669.000000    38.000000    30.250000     1.000000   \n",
       "max    2.595650e+06  4518.000000  1245.000000   838.000000     9.000000   \n",
       "\n",
       "           nbumps2      nbumps3      nbumps4      nbumps5         energy  \\\n",
       "count  2584.000000  2584.000000  2584.000000  2584.000000    2584.000000   \n",
       "mean      0.393576     0.392802     0.067724     0.004644    4975.270898   \n",
       "std       0.783772     0.769710     0.279059     0.068001   20450.833222   \n",
       "min       0.000000     0.000000     0.000000     0.000000       0.000000   \n",
       "25%       0.000000     0.000000     0.000000     0.000000       0.000000   \n",
       "50%       0.000000     0.000000     0.000000     0.000000       0.000000   \n",
       "75%       1.000000     1.000000     0.000000     0.000000    2600.000000   \n",
       "max       8.000000     7.000000     3.000000     1.000000  402000.000000   \n",
       "\n",
       "           maxenergy  \n",
       "count    2584.000000  \n",
       "mean     4278.850619  \n",
       "std     19357.454882  \n",
       "min         0.000000  \n",
       "25%         0.000000  \n",
       "50%         0.000000  \n",
       "75%      2000.000000  \n",
       "max    400000.000000  "
      ]
     },
     "execution_count": 24,
     "metadata": {},
     "output_type": "execute_result"
    }
   ],
   "source": [
    "df_numerical = df[numerical_columns]\n",
    "df_numerical.describe()"
   ]
  },
  {
   "cell_type": "markdown",
   "metadata": {},
   "source": [
    "Нормализую числовые признаки"
   ]
  },
  {
   "cell_type": "code",
   "execution_count": 25,
   "metadata": {},
   "outputs": [
    {
     "data": {
      "text/html": [
       "<div>\n",
       "<style scoped>\n",
       "    .dataframe tbody tr th:only-of-type {\n",
       "        vertical-align: middle;\n",
       "    }\n",
       "\n",
       "    .dataframe tbody tr th {\n",
       "        vertical-align: top;\n",
       "    }\n",
       "\n",
       "    .dataframe thead th {\n",
       "        text-align: right;\n",
       "    }\n",
       "</style>\n",
       "<table border=\"1\" class=\"dataframe\">\n",
       "  <thead>\n",
       "    <tr style=\"text-align: right;\">\n",
       "      <th></th>\n",
       "      <th>genergy</th>\n",
       "      <th>gpuls</th>\n",
       "      <th>gdenergy</th>\n",
       "      <th>gdpuls</th>\n",
       "      <th>nbumps</th>\n",
       "      <th>nbumps2</th>\n",
       "      <th>nbumps3</th>\n",
       "      <th>nbumps4</th>\n",
       "      <th>nbumps5</th>\n",
       "      <th>energy</th>\n",
       "      <th>maxenergy</th>\n",
       "    </tr>\n",
       "  </thead>\n",
       "  <tbody>\n",
       "    <tr>\n",
       "      <td>count</td>\n",
       "      <td>2.584000e+03</td>\n",
       "      <td>2.584000e+03</td>\n",
       "      <td>2.584000e+03</td>\n",
       "      <td>2.584000e+03</td>\n",
       "      <td>2.584000e+03</td>\n",
       "      <td>2.584000e+03</td>\n",
       "      <td>2.584000e+03</td>\n",
       "      <td>2.584000e+03</td>\n",
       "      <td>2.584000e+03</td>\n",
       "      <td>2.584000e+03</td>\n",
       "      <td>2.584000e+03</td>\n",
       "    </tr>\n",
       "    <tr>\n",
       "      <td>mean</td>\n",
       "      <td>-3.542488e-16</td>\n",
       "      <td>-1.529135e-16</td>\n",
       "      <td>-9.604890e-17</td>\n",
       "      <td>-1.501422e-16</td>\n",
       "      <td>-5.364560e-15</td>\n",
       "      <td>3.492562e-15</td>\n",
       "      <td>1.264554e-15</td>\n",
       "      <td>-2.837277e-15</td>\n",
       "      <td>4.060972e-16</td>\n",
       "      <td>1.129579e-15</td>\n",
       "      <td>-8.477266e-16</td>\n",
       "    </tr>\n",
       "    <tr>\n",
       "      <td>std</td>\n",
       "      <td>1.000000e+00</td>\n",
       "      <td>1.000000e+00</td>\n",
       "      <td>1.000000e+00</td>\n",
       "      <td>1.000000e+00</td>\n",
       "      <td>1.000000e+00</td>\n",
       "      <td>1.000000e+00</td>\n",
       "      <td>1.000000e+00</td>\n",
       "      <td>1.000000e+00</td>\n",
       "      <td>1.000000e+00</td>\n",
       "      <td>1.000000e+00</td>\n",
       "      <td>1.000000e+00</td>\n",
       "    </tr>\n",
       "    <tr>\n",
       "      <td>min</td>\n",
       "      <td>-3.932911e-01</td>\n",
       "      <td>-9.536602e-01</td>\n",
       "      <td>-1.349316e+00</td>\n",
       "      <td>-1.591173e+00</td>\n",
       "      <td>-6.298621e-01</td>\n",
       "      <td>-5.021560e-01</td>\n",
       "      <td>-5.103247e-01</td>\n",
       "      <td>-2.426888e-01</td>\n",
       "      <td>-6.829220e-02</td>\n",
       "      <td>-2.432796e-01</td>\n",
       "      <td>-2.210441e-01</td>\n",
       "    </tr>\n",
       "    <tr>\n",
       "      <td>25%</td>\n",
       "      <td>-3.428549e-01</td>\n",
       "      <td>-6.195286e-01</td>\n",
       "      <td>-6.147455e-01</td>\n",
       "      <td>-6.413030e-01</td>\n",
       "      <td>-6.298621e-01</td>\n",
       "      <td>-5.021560e-01</td>\n",
       "      <td>-5.103247e-01</td>\n",
       "      <td>-2.426888e-01</td>\n",
       "      <td>-6.829220e-02</td>\n",
       "      <td>-2.432796e-01</td>\n",
       "      <td>-2.210441e-01</td>\n",
       "    </tr>\n",
       "    <tr>\n",
       "      <td>50%</td>\n",
       "      <td>-2.825366e-01</td>\n",
       "      <td>-2.836197e-01</td>\n",
       "      <td>-2.287848e-01</td>\n",
       "      <td>-1.663681e-01</td>\n",
       "      <td>-6.298621e-01</td>\n",
       "      <td>-5.021560e-01</td>\n",
       "      <td>-5.103247e-01</td>\n",
       "      <td>-2.426888e-01</td>\n",
       "      <td>-6.829220e-02</td>\n",
       "      <td>-2.432796e-01</td>\n",
       "      <td>-2.210441e-01</td>\n",
       "    </tr>\n",
       "    <tr>\n",
       "      <td>75%</td>\n",
       "      <td>-1.632196e-01</td>\n",
       "      <td>2.317961e-01</td>\n",
       "      <td>3.190305e-01</td>\n",
       "      <td>4.075115e-01</td>\n",
       "      <td>1.029446e-01</td>\n",
       "      <td>7.737252e-01</td>\n",
       "      <td>7.888664e-01</td>\n",
       "      <td>-2.426888e-01</td>\n",
       "      <td>-6.829220e-02</td>\n",
       "      <td>-1.161454e-01</td>\n",
       "      <td>-1.177247e-01</td>\n",
       "    </tr>\n",
       "    <tr>\n",
       "      <td>max</td>\n",
       "      <td>1.093107e+01</td>\n",
       "      <td>7.072608e+00</td>\n",
       "      <td>1.534660e+01</td>\n",
       "      <td>1.319513e+01</td>\n",
       "      <td>5.965398e+00</td>\n",
       "      <td>9.704893e+00</td>\n",
       "      <td>8.584013e+00</td>\n",
       "      <td>1.050773e+01</td>\n",
       "      <td>1.463729e+01</td>\n",
       "      <td>1.941362e+01</td>\n",
       "      <td>2.044283e+01</td>\n",
       "    </tr>\n",
       "  </tbody>\n",
       "</table>\n",
       "</div>"
      ],
      "text/plain": [
       "            genergy         gpuls      gdenergy        gdpuls        nbumps  \\\n",
       "count  2.584000e+03  2.584000e+03  2.584000e+03  2.584000e+03  2.584000e+03   \n",
       "mean  -3.542488e-16 -1.529135e-16 -9.604890e-17 -1.501422e-16 -5.364560e-15   \n",
       "std    1.000000e+00  1.000000e+00  1.000000e+00  1.000000e+00  1.000000e+00   \n",
       "min   -3.932911e-01 -9.536602e-01 -1.349316e+00 -1.591173e+00 -6.298621e-01   \n",
       "25%   -3.428549e-01 -6.195286e-01 -6.147455e-01 -6.413030e-01 -6.298621e-01   \n",
       "50%   -2.825366e-01 -2.836197e-01 -2.287848e-01 -1.663681e-01 -6.298621e-01   \n",
       "75%   -1.632196e-01  2.317961e-01  3.190305e-01  4.075115e-01  1.029446e-01   \n",
       "max    1.093107e+01  7.072608e+00  1.534660e+01  1.319513e+01  5.965398e+00   \n",
       "\n",
       "            nbumps2       nbumps3       nbumps4       nbumps5        energy  \\\n",
       "count  2.584000e+03  2.584000e+03  2.584000e+03  2.584000e+03  2.584000e+03   \n",
       "mean   3.492562e-15  1.264554e-15 -2.837277e-15  4.060972e-16  1.129579e-15   \n",
       "std    1.000000e+00  1.000000e+00  1.000000e+00  1.000000e+00  1.000000e+00   \n",
       "min   -5.021560e-01 -5.103247e-01 -2.426888e-01 -6.829220e-02 -2.432796e-01   \n",
       "25%   -5.021560e-01 -5.103247e-01 -2.426888e-01 -6.829220e-02 -2.432796e-01   \n",
       "50%   -5.021560e-01 -5.103247e-01 -2.426888e-01 -6.829220e-02 -2.432796e-01   \n",
       "75%    7.737252e-01  7.888664e-01 -2.426888e-01 -6.829220e-02 -1.161454e-01   \n",
       "max    9.704893e+00  8.584013e+00  1.050773e+01  1.463729e+01  1.941362e+01   \n",
       "\n",
       "          maxenergy  \n",
       "count  2.584000e+03  \n",
       "mean  -8.477266e-16  \n",
       "std    1.000000e+00  \n",
       "min   -2.210441e-01  \n",
       "25%   -2.210441e-01  \n",
       "50%   -2.210441e-01  \n",
       "75%   -1.177247e-01  \n",
       "max    2.044283e+01  "
      ]
     },
     "execution_count": 25,
     "metadata": {},
     "output_type": "execute_result"
    }
   ],
   "source": [
    "df_numerical = (df_numerical - df_numerical.mean(axis = 0))/df_numerical.std(axis = 0)\n",
    "df_numerical.describe()"
   ]
  },
  {
   "cell_type": "markdown",
   "metadata": {},
   "source": [
    "## Собираю обработанные данные"
   ]
  },
  {
   "cell_type": "code",
   "execution_count": 26,
   "metadata": {},
   "outputs": [
    {
     "name": "stdout",
     "output_type": "stream",
     "text": [
      "(2584, 20)\n"
     ]
    }
   ],
   "source": [
    "df = pd.concat((df_numerical, df_nonbinary, df[binary_columns]), axis = 1)\n",
    "print(df.shape)"
   ]
  },
  {
   "cell_type": "code",
   "execution_count": 27,
   "metadata": {},
   "outputs": [
    {
     "data": {
      "text/plain": [
       "False"
      ]
     },
     "execution_count": 27,
     "metadata": {},
     "output_type": "execute_result"
    }
   ],
   "source": [
    "df.isnull().values.any()"
   ]
  },
  {
   "cell_type": "markdown",
   "metadata": {},
   "source": [
    "## Подготовка данных для классификатора\n",
    "выбрасываю столбец 'class'"
   ]
  },
  {
   "cell_type": "code",
   "execution_count": 28,
   "metadata": {},
   "outputs": [],
   "source": [
    "X = df.drop('class', axis = 1)\n",
    "y = df['class']\n",
    "feature_names = X.columns"
   ]
  },
  {
   "cell_type": "code",
   "execution_count": 29,
   "metadata": {},
   "outputs": [
    {
     "data": {
      "text/plain": [
       "Index(['genergy', 'gpuls', 'gdenergy', 'gdpuls', 'nbumps', 'nbumps2',\n",
       "       'nbumps3', 'nbumps4', 'nbumps5', 'energy', 'maxenergy',\n",
       "       'seismoacoustic_a', 'seismoacoustic_b', 'seismoacoustic_c', 'ghazard_a',\n",
       "       'ghazard_b', 'ghazard_c', 'seismic', 'shift'],\n",
       "      dtype='object')"
      ]
     },
     "execution_count": 29,
     "metadata": {},
     "output_type": "execute_result"
    }
   ],
   "source": [
    "feature_names"
   ]
  },
  {
   "cell_type": "code",
   "execution_count": 30,
   "metadata": {},
   "outputs": [],
   "source": [
    "X = X.to_numpy()"
   ]
  },
  {
   "cell_type": "code",
   "execution_count": 31,
   "metadata": {},
   "outputs": [
    {
     "name": "stdout",
     "output_type": "stream",
     "text": [
      "0       0\n",
      "1       0\n",
      "2       0\n",
      "3       0\n",
      "4       0\n",
      "       ..\n",
      "2579    0\n",
      "2580    0\n",
      "2581    0\n",
      "2582    0\n",
      "2583    0\n",
      "Name: class, Length: 2584, dtype: object\n"
     ]
    }
   ],
   "source": [
    "print(y)"
   ]
  },
  {
   "cell_type": "code",
   "execution_count": 32,
   "metadata": {},
   "outputs": [],
   "source": [
    "y = y.to_numpy()"
   ]
  },
  {
   "cell_type": "code",
   "execution_count": 33,
   "metadata": {},
   "outputs": [
    {
     "name": "stdout",
     "output_type": "stream",
     "text": [
      "(2584, 19)\n",
      "(2584,)\n"
     ]
    }
   ],
   "source": [
    "print(X.shape)\n",
    "print(y.shape)\n",
    "N, d = X.shape"
   ]
  },
  {
   "cell_type": "code",
   "execution_count": 34,
   "metadata": {},
   "outputs": [
    {
     "data": {
      "text/plain": [
       "numpy.ndarray"
      ]
     },
     "execution_count": 34,
     "metadata": {},
     "output_type": "execute_result"
    }
   ],
   "source": [
    "type(X)"
   ]
  },
  {
   "cell_type": "code",
   "execution_count": 35,
   "metadata": {},
   "outputs": [
    {
     "data": {
      "text/plain": [
       "numpy.ndarray"
      ]
     },
     "execution_count": 35,
     "metadata": {},
     "output_type": "execute_result"
    }
   ],
   "source": [
    "type(y)"
   ]
  },
  {
   "cell_type": "markdown",
   "metadata": {},
   "source": [
    "## Разделяю данные на обучающую и тестовую"
   ]
  },
  {
   "cell_type": "code",
   "execution_count": 36,
   "metadata": {},
   "outputs": [
    {
     "name": "stdout",
     "output_type": "stream",
     "text": [
      "1550 1034\n"
     ]
    }
   ],
   "source": [
    "X_train, X_test, y_train, y_test = train_test_split(X, y, test_size = 0.4, random_state = 42)\n",
    "\n",
    "N_train, _ = X_train.shape \n",
    "N_test,  _ = X_test.shape \n",
    "\n",
    "print(N_train, N_test)"
   ]
  },
  {
   "cell_type": "markdown",
   "metadata": {},
   "source": [
    "# Применение различных методов\n",
    "## Метод k-ближайших соседей"
   ]
  },
  {
   "cell_type": "code",
   "execution_count": 37,
   "metadata": {},
   "outputs": [
    {
     "name": "stdout",
     "output_type": "stream",
     "text": [
      "0.06576402321083172\n",
      "[[961   2]\n",
      " [ 66   5]]\n",
      "0.06451612903225812\n",
      "0.06576402321083175\n"
     ]
    }
   ],
   "source": [
    "knn = KNeighborsClassifier(n_neighbors = 10)\n",
    "knn.fit(X_train, y_train)\n",
    "\n",
    "knn_predicted = knn.predict(X_test)\n",
    "print(np.mean(y_test  != knn_predicted))\n",
    "print(confusion_matrix(y_test, knn_predicted))\n",
    "print(1 - knn.score(X_train, y_train))\n",
    "print(1 - knn.score(X_test, y_test))"
   ]
  },
  {
   "cell_type": "code",
   "execution_count": 38,
   "metadata": {},
   "outputs": [
    {
     "name": "stdout",
     "output_type": "stream",
     "text": [
      "0.06387096774193546 10\n"
     ]
    }
   ],
   "source": [
    "nnb = [1, 3, 5, 10, 15, 20, 25, 35, 45, 55]\n",
    "knn = KNeighborsClassifier()\n",
    "grid = GridSearchCV(knn, param_grid = {'n_neighbors': nnb}, cv=10)\n",
    "grid.fit(X_train, y_train)\n",
    "\n",
    "best_cv_err = 1 - grid.best_score_\n",
    "best_n_neighbors = grid.best_estimator_.n_neighbors\n",
    "print(best_cv_err, best_n_neighbors)"
   ]
  },
  {
   "cell_type": "markdown",
   "metadata": {},
   "source": [
    "## SVM"
   ]
  },
  {
   "cell_type": "code",
   "execution_count": 40,
   "metadata": {},
   "outputs": [
    {
     "name": "stdout",
     "output_type": "stream",
     "text": [
      "0.28433268858800775\n",
      "[[695 268]\n",
      " [ 26  45]]\n",
      "0.25161290322580643\n",
      "0.28433268858800775\n"
     ]
    }
   ],
   "source": [
    "svc = SVC(gamma='auto', class_weight='balanced')\n",
    "svc.fit(X_train, y_train)\n",
    "\n",
    "svc_predicted = svc.predict(X_test)\n",
    "print(np.mean(y_test  != svc_predicted))\n",
    "print(confusion_matrix(y_test, svc_predicted))\n",
    "print(1 - svc.score(X_train, y_train))\n",
    "print(1 - svc.score(X_test, y_test))"
   ]
  },
  {
   "cell_type": "code",
   "execution_count": 40,
   "metadata": {},
   "outputs": [
    {
     "name": "stdout",
     "output_type": "stream",
     "text": [
      "0.06387096774193546 1e-05\n"
     ]
    },
    {
     "name": "stderr",
     "output_type": "stream",
     "text": [
      "D:\\Anaconda\\envs\\seismic\\lib\\site-packages\\sklearn\\model_selection\\_search.py:814: DeprecationWarning: The default of the `iid` parameter will change from True to False in version 0.22 and will be removed in 0.24. This will change numeric results when test-set sizes are unequal.\n",
      "  DeprecationWarning)\n"
     ]
    }
   ],
   "source": [
    "Cs = 10.**np.arange(-5, 5)\n",
    "gamma_array = 10.**np.arange(-5, 5)\n",
    "svc = SVC(gamma='auto', class_weight='balanced')\n",
    "grid = GridSearchCV(svc, cv=3, param_grid = {'C': Cs, 'gamma': gamma_array})\n",
    "grid.fit(X_train, y_train)\n",
    "\n",
    "best_cv_err = 1 - grid.best_score_\n",
    "best_C = grid.best_estimator_.C\n",
    "print(best_cv_err, best_C)"
   ]
  },
  {
   "cell_type": "markdown",
   "metadata": {},
   "source": [
    "# Выводы\n",
    "- метод ближайших соседей работает очень плохо при разном количестве соседей (скорее всего потому что  \n",
    "выборка несбалансированная)\n",
    "- нужно как-то сбалансировать выборку\n",
    "- svс показывает вменяемые результаты, но тоже довольно плохие (true positive и true negative больше,  \n",
    "чем false positive и false negative, но результаты оставляют желать лучшего)\n",
    "- нужно попробовать задать словарь с ограничениями и большим штрафом на false negative"
   ]
  },
  {
   "cell_type": "markdown",
   "metadata": {},
   "source": [
    "# Метод главных компонент\n",
    "## Сокращаю размерность пространства до 2-х и применяю к обработанным данным"
   ]
  },
  {
   "cell_type": "code",
   "execution_count": 118,
   "metadata": {},
   "outputs": [],
   "source": [
    "pca = PCA(n_components=2)\n",
    "principalComponents = pca.fit_transform(df)\n",
    "principalDf = pd.DataFrame(data = principalComponents, columns = ['principal component 1', 'principal component 2'])\n",
    "finalDf = pd.concat([principalDf, df[['class']]], axis = 1)"
   ]
  },
  {
   "cell_type": "code",
   "execution_count": 119,
   "metadata": {},
   "outputs": [
    {
     "data": {
      "text/html": [
       "<div>\n",
       "<style scoped>\n",
       "    .dataframe tbody tr th:only-of-type {\n",
       "        vertical-align: middle;\n",
       "    }\n",
       "\n",
       "    .dataframe tbody tr th {\n",
       "        vertical-align: top;\n",
       "    }\n",
       "\n",
       "    .dataframe thead th {\n",
       "        text-align: right;\n",
       "    }\n",
       "</style>\n",
       "<table border=\"1\" class=\"dataframe\">\n",
       "  <thead>\n",
       "    <tr style=\"text-align: right;\">\n",
       "      <th></th>\n",
       "      <th>principal component 1</th>\n",
       "      <th>principal component 2</th>\n",
       "      <th>class</th>\n",
       "    </tr>\n",
       "  </thead>\n",
       "  <tbody>\n",
       "    <tr>\n",
       "      <td>0</td>\n",
       "      <td>-1.593745</td>\n",
       "      <td>0.680310</td>\n",
       "      <td>0</td>\n",
       "    </tr>\n",
       "    <tr>\n",
       "      <td>1</td>\n",
       "      <td>-0.884348</td>\n",
       "      <td>0.116802</td>\n",
       "      <td>0</td>\n",
       "    </tr>\n",
       "    <tr>\n",
       "      <td>2</td>\n",
       "      <td>-1.644500</td>\n",
       "      <td>0.691759</td>\n",
       "      <td>0</td>\n",
       "    </tr>\n",
       "    <tr>\n",
       "      <td>3</td>\n",
       "      <td>-0.317462</td>\n",
       "      <td>0.135681</td>\n",
       "      <td>0</td>\n",
       "    </tr>\n",
       "    <tr>\n",
       "      <td>4</td>\n",
       "      <td>-1.514999</td>\n",
       "      <td>0.690262</td>\n",
       "      <td>0</td>\n",
       "    </tr>\n",
       "  </tbody>\n",
       "</table>\n",
       "</div>"
      ],
      "text/plain": [
       "   principal component 1  principal component 2 class\n",
       "0              -1.593745               0.680310     0\n",
       "1              -0.884348               0.116802     0\n",
       "2              -1.644500               0.691759     0\n",
       "3              -0.317462               0.135681     0\n",
       "4              -1.514999               0.690262     0"
      ]
     },
     "execution_count": 119,
     "metadata": {},
     "output_type": "execute_result"
    }
   ],
   "source": [
    "finalDf.head()"
   ]
  },
  {
   "cell_type": "markdown",
   "metadata": {},
   "source": [
    "## График точек после сокращения размерности"
   ]
  },
  {
   "cell_type": "code",
   "execution_count": 120,
   "metadata": {},
   "outputs": [
    {
     "data": {
      "image/png": "[encoded data removed]",
      "text/plain": [
       "<Figure size 720x720 with 1 Axes>"
      ]
     },
     "metadata": {
      "needs_background": "light"
     },
     "output_type": "display_data"
    }
   ],
   "source": [
    "fig = plt.figure(figsize = (10,10))\n",
    "ax = fig.add_subplot(1,1,1) \n",
    "ax.set_xlabel('Principal Component 1', fontsize = 15)\n",
    "ax.set_ylabel('Principal Component 2', fontsize = 15)\n",
    "ax.set_title('2 component PCA', fontsize = 20)\n",
    "targets = ['0', '1']\n",
    "colors = ['g', 'r']\n",
    "states = ['non-hazardous state', 'hazardous state']\n",
    "for target, color in zip(targets,colors):\n",
    "    indicesToKeep = finalDf['class'] == target\n",
    "    ax.scatter(finalDf.loc[indicesToKeep, 'principal component 1']\n",
    "               , finalDf.loc[indicesToKeep, 'principal component 2']\n",
    "               , c = color\n",
    "               , s = 50)\n",
    "ax.legend(states)\n",
    "ax.grid()"
   ]
  },
  {
   "cell_type": "markdown",
   "metadata": {},
   "source": [
    "## Применяю SVM"
   ]
  },
  {
   "cell_type": "code",
   "execution_count": 121,
   "metadata": {},
   "outputs": [
    {
     "data": {
      "text/plain": [
       "Index(['principal component 1', 'principal component 2'], dtype='object')"
      ]
     },
     "execution_count": 121,
     "metadata": {},
     "output_type": "execute_result"
    }
   ],
   "source": [
    "X = finalDf.drop('class', axis = 1)\n",
    "y = finalDf['class']\n",
    "feature_names = X.columns\n",
    "feature_names"
   ]
  },
  {
   "cell_type": "code",
   "execution_count": 122,
   "metadata": {},
   "outputs": [],
   "source": [
    "X = X.to_numpy()"
   ]
  },
  {
   "cell_type": "code",
   "execution_count": 123,
   "metadata": {},
   "outputs": [],
   "source": [
    "y = y.to_numpy()"
   ]
  },
  {
   "cell_type": "code",
   "execution_count": 124,
   "metadata": {},
   "outputs": [
    {
     "name": "stdout",
     "output_type": "stream",
     "text": [
      "1550 1034\n"
     ]
    }
   ],
   "source": [
    "X_train, X_test, y_train, y_test = train_test_split(X, y, test_size = 0.4, random_state = 42)\n",
    "\n",
    "N_train, _ = X_train.shape \n",
    "N_test,  _ = X_test.shape \n",
    "\n",
    "print(N_train, N_test)"
   ]
  },
  {
   "cell_type": "code",
   "execution_count": 125,
   "metadata": {},
   "outputs": [
    {
     "name": "stdout",
     "output_type": "stream",
     "text": [
      "0.21470019342359767\n",
      "[[769 194]\n",
      " [ 28  43]]\n",
      "0.7993548387096774\n",
      "0.7852998065764023\n"
     ]
    }
   ],
   "source": [
    "svc = SVC(gamma='auto', class_weight='balanced')\n",
    "svc.fit(X_train, y_train)\n",
    "\n",
    "svc_predicted = svc.predict(X_test)\n",
    "print(np.mean(y_test  != svc_predicted))\n",
    "print(confusion_matrix(y_test, svc_predicted))\n",
    "print(svc.score(X_train, y_train))\n",
    "print(svc.score(X_test, y_test))"
   ]
  },
  {
   "cell_type": "markdown",
   "metadata": {},
   "source": [
    "## Функция для вычисления ошибок на тестовой и обучающей выборках в зависимости от количества используемых компонент"
   ]
  },
  {
   "cell_type": "code",
   "execution_count": 126,
   "metadata": {},
   "outputs": [],
   "source": [
    "def my_pca(df, pca_numbers):\n",
    "    train_errors = []\n",
    "    test_errors = []\n",
    "    for pca_number in pca_numbers:\n",
    "        pca = PCA(n_components=pca_number)\n",
    "        principalComponents = pca.fit_transform(df)\n",
    "        pca_names = []\n",
    "        for i in range(1,pca_number+1):\n",
    "            pca_names.append('principal component' + str(i))\n",
    "        principalDf = pd.DataFrame(data = principalComponents, columns = pca_names)\n",
    "        finalDf = pd.concat([principalDf, df[['class']]], axis = 1)\n",
    "        X = finalDf.drop('class', axis = 1)\n",
    "        y = finalDf['class']\n",
    "        X = X.to_numpy()\n",
    "        y = y.to_numpy()\n",
    "        X_train, X_test, y_train, y_test = train_test_split(X, y, test_size = 0.4, random_state = 42)\n",
    "        N_train, _ = X_train.shape \n",
    "        N_test,  _ = X_test.shape\n",
    "        svc = SVC(gamma='auto', class_weight='balanced')\n",
    "        svc.fit(X_train, y_train)\n",
    "        svc_predicted = svc.predict(X_test)\n",
    "        train_errors.append(1 - svc.score(X_train, y_train))\n",
    "        test_errors.append(1 - svc.score(X_test, y_test))\n",
    "        print('pca number = ' + str(i))\n",
    "        print(1 - svc.score(X_train, y_train))\n",
    "        print(1 - svc.score(X_test, y_test))\n",
    "        #print(np.mean(y_test  != svc_predicted))\n",
    "        print(confusion_matrix(y_test, svc_predicted))\n",
    "        #print()\n",
    "    return (train_errors, test_errors)"
   ]
  },
  {
   "cell_type": "code",
   "execution_count": 127,
   "metadata": {},
   "outputs": [
    {
     "name": "stdout",
     "output_type": "stream",
     "text": [
      "pca number = 2\n",
      "0.20064516129032262\n",
      "0.2147001934235977\n",
      "[[769 194]\n",
      " [ 28  43]]\n",
      "pca number = 3\n",
      "0.18903225806451618\n",
      "0.23500967117988392\n",
      "[[752 211]\n",
      " [ 32  39]]\n",
      "pca number = 4\n",
      "0.15870967741935482\n",
      "0.20793036750483562\n",
      "[[781 182]\n",
      " [ 33  38]]\n",
      "pca number = 5\n",
      "0.1619354838709678\n",
      "0.20889748549323017\n",
      "[[780 183]\n",
      " [ 33  38]]\n",
      "pca number = 6\n",
      "0.15741935483870972\n",
      "0.2147001934235977\n",
      "[[778 185]\n",
      " [ 37  34]]\n",
      "pca number = 7\n",
      "0.15806451612903227\n",
      "0.21276595744680848\n",
      "[[779 184]\n",
      " [ 36  35]]\n",
      "pca number = 8\n",
      "0.15677419354838706\n",
      "0.2292069632495164\n",
      "[[762 201]\n",
      " [ 36  35]]\n",
      "pca number = 9\n",
      "0.15677419354838706\n",
      "0.23694390715667313\n",
      "[[752 211]\n",
      " [ 34  37]]\n",
      "pca number = 10\n",
      "0.17161290322580647\n",
      "0.2437137330754352\n",
      "[[746 217]\n",
      " [ 35  36]]\n",
      "pca number = 11\n",
      "0.19032258064516128\n",
      "0.2620889748549323\n",
      "[[725 238]\n",
      " [ 33  38]]\n",
      "pca number = 12\n",
      "0.18774193548387097\n",
      "0.2514506769825918\n",
      "[[733 230]\n",
      " [ 30  41]]\n",
      "pca number = 13\n",
      "0.18903225806451618\n",
      "0.25338491295938104\n",
      "[[731 232]\n",
      " [ 30  41]]\n",
      "pca number = 14\n",
      "0.000645161290322549\n",
      "0.007736943907156624\n",
      "[[963   0]\n",
      " [  8  63]]\n",
      "pca number = 15\n",
      "0.000645161290322549\n",
      "0.007736943907156624\n",
      "[[963   0]\n",
      " [  8  63]]\n",
      "pca number = 16\n",
      "0.000645161290322549\n",
      "0.007736943907156624\n",
      "[[963   0]\n",
      " [  8  63]]\n",
      "pca number = 17\n",
      "0.000645161290322549\n",
      "0.0067698259187620735\n",
      "[[963   0]\n",
      " [  7  64]]\n",
      "pca number = 18\n",
      "0.000645161290322549\n",
      "0.005802707930367523\n",
      "[[963   0]\n",
      " [  6  65]]\n",
      "pca number = 19\n",
      "0.0\n",
      "0.005802707930367523\n",
      "[[963   0]\n",
      " [  6  65]]\n"
     ]
    }
   ],
   "source": [
    "number_of_pcas = list(range(2,20))\n",
    "train_e, test_e = my_pca(df, number_of_pcas)\n",
    "#print(train_e)\n",
    "#print(test_e)"
   ]
  },
  {
   "cell_type": "markdown",
   "metadata": {},
   "source": [
    " ## График зависимости ошибки на тестовой и обучающей выборках в зависимости от количества используемых компонент"
   ]
  },
  {
   "cell_type": "code",
   "execution_count": 128,
   "metadata": {},
   "outputs": [
    {
     "data": {
      "image/png": "[encoded data removed]",
      "text/plain": [
       "<Figure size 864x432 with 1 Axes>"
      ]
     },
     "metadata": {
      "needs_background": "light"
     },
     "output_type": "display_data"
    }
   ],
   "source": [
    "plt.rcParams[\"figure.figsize\"] = (12,6)\n",
    "fig, ax = plt.subplots()\n",
    "xi = number_of_pcas\n",
    "\n",
    "plt.ylim(0.0,1.1)\n",
    "plt.plot(xi, train_e, marker='o', color='r', label='train error')\n",
    "plt.plot(xi, test_e, marker='o', color='b', label='test error')\n",
    "plt.legend()\n",
    "\n",
    "plt.xlabel('Number of Components')\n",
    "plt.xticks(number_of_pcas)\n",
    "plt.ylabel('Error')\n",
    "\n",
    "ax.grid(axis='x')\n",
    "plt.show()"
   ]
  },
  {
   "cell_type": "markdown",
   "metadata": {},
   "source": [
    "# График объяснённой дисперсии"
   ]
  },
  {
   "cell_type": "code",
   "execution_count": 129,
   "metadata": {},
   "outputs": [
    {
     "data": {
      "image/png": "[encoded data removed]",
      "text/plain": [
       "<Figure size 864x432 with 1 Axes>"
      ]
     },
     "metadata": {
      "needs_background": "light"
     },
     "output_type": "display_data"
    }
   ],
   "source": [
    "pca1 = PCA().fit(df)\n",
    "\n",
    "plt.rcParams[\"figure.figsize\"] = (12,6)\n",
    "fig, ax = plt.subplots()\n",
    "xi = list(range(1,21))\n",
    "y = np.cumsum(pca1.explained_variance_ratio_)\n",
    "\n",
    "plt.ylim(0.0,1.1)\n",
    "plt.plot(xi, y, marker='o', linestyle='--', color='b')\n",
    "\n",
    "plt.xlabel('Number of Components')\n",
    "plt.xlim(1,20)\n",
    "plt.xticks(xi) #change from 0-based array index to 1-based human-readable label\n",
    "plt.ylabel('Cumulative variance (%)')\n",
    "plt.title('The number of components needed to explain variance')\n",
    "\n",
    "plt.axhline(y=0.95, color='r', linestyle='-')\n",
    "plt.text(1.5, 1.0, '95% cut-off threshold', color = 'red', fontsize=16)\n",
    "\n",
    "ax.grid(axis='x')\n",
    "plt.show()"
   ]
  },
  {
   "cell_type": "markdown",
   "metadata": {},
   "source": [
    "# Выводы"
   ]
  },
  {
   "cell_type": "markdown",
   "metadata": {},
   "source": [
    "Для моих данных SVM был лучшим классификатором  \n",
    "- без PCA ошибки были:  \n",
    "0.25161290322580643 для обучающей выборки  \n",
    "0.28433268858800775 для тестовой выборки  \n",
    "- с PCA = 9 для 95% дисперсии ошибка на тестовой выборке получилась:  \n",
    "pca number = 9  \n",
    "0.15677419354838706 для обучающей выборки  \n",
    "0.23694390715667313 для тестовой выборки  \n",
    "  \n",
    "Ошибка снизилась"
   ]
  },
  {
   "cell_type": "markdown",
   "metadata": {},
   "source": [
    "# Обучение неглубокой полносвязной нейронной сети"
   ]
  },
  {
   "cell_type": "code",
   "execution_count": 37,
   "metadata": {},
   "outputs": [],
   "source": [
    "alpha = 0.0001\n",
    "size = (100,)\n",
    "solver = 'lbfgs'\n",
    "activation = 'logistic'\n",
    "random_state = 42"
   ]
  },
  {
   "cell_type": "markdown",
   "metadata": {},
   "source": [
    "## Обучаю классификатор"
   ]
  },
  {
   "cell_type": "code",
   "execution_count": 38,
   "metadata": {},
   "outputs": [],
   "source": [
    "def build_model(alpha, size, solver, activation, random_state):\n",
    "    mlp_model = MLPClassifier(alpha = alpha, hidden_layer_sizes = size, solver = solver, \n",
    "                          activation = activation, random_state = random_state, shuffle=True)\n",
    "    mlp_model.fit(X_train, y_train)\n",
    "    return mlp_model"
   ]
  },
  {
   "cell_type": "code",
   "execution_count": 39,
   "metadata": {},
   "outputs": [],
   "source": [
    "mlp_model = build_model(alpha, size, solver, activation, random_state)"
   ]
  },
  {
   "cell_type": "markdown",
   "metadata": {},
   "source": [
    "## Проверяю качество классфикатора"
   ]
  },
  {
   "cell_type": "code",
   "execution_count": 40,
   "metadata": {},
   "outputs": [],
   "source": [
    "y_train_pred = mlp_model.predict(X_train)\n",
    "y_test_pred = mlp_model.predict(X_test)"
   ]
  },
  {
   "cell_type": "code",
   "execution_count": 41,
   "metadata": {},
   "outputs": [
    {
     "name": "stdout",
     "output_type": "stream",
     "text": [
      "1.0 0.8704061895551257\n"
     ]
    }
   ],
   "source": [
    "print(mlp_model.score(X_train, y_train), mlp_model.score(X_test, y_test))"
   ]
  },
  {
   "cell_type": "code",
   "execution_count": 42,
   "metadata": {},
   "outputs": [
    {
     "name": "stdout",
     "output_type": "stream",
     "text": [
      "0.12959381044487428\n"
     ]
    }
   ],
   "source": [
    "print(1 - mlp_model.score(X_test, y_test))"
   ]
  },
  {
   "cell_type": "code",
   "execution_count": 43,
   "metadata": {},
   "outputs": [
    {
     "name": "stdout",
     "output_type": "stream",
     "text": [
      "[[886  77]\n",
      " [ 57  14]]\n"
     ]
    }
   ],
   "source": [
    "print(confusion_matrix(y_test, y_test_pred))"
   ]
  },
  {
   "cell_type": "code",
   "execution_count": 44,
   "metadata": {},
   "outputs": [
    {
     "name": "stdout",
     "output_type": "stream",
     "text": [
      "              precision    recall  f1-score   support\n",
      "\n",
      "           0       0.94      0.92      0.93       963\n",
      "           1       0.15      0.20      0.17        71\n",
      "\n",
      "    accuracy                           0.87      1034\n",
      "   macro avg       0.55      0.56      0.55      1034\n",
      "weighted avg       0.89      0.87      0.88      1034\n",
      "\n"
     ]
    }
   ],
   "source": [
    "print(classification_report(y_test, y_test_pred))"
   ]
  },
  {
   "cell_type": "markdown",
   "metadata": {},
   "source": [
    "## Подбор гиперпараметров"
   ]
  },
  {
   "cell_type": "code",
   "execution_count": 45,
   "metadata": {},
   "outputs": [],
   "source": [
    "#parameters = {'solver': ['lbfgs'],\n",
    "#              'alpha': 10.0 ** -np.arange(1, 7), \n",
    "#              'hidden_layer_sizes':np.arange(50, 200), \n",
    "#              'random_state':[42]}\n",
    "#grid = GridSearchCV(mlp_model, parameters, cv=5)\n",
    "#grid.fit(X_train, y_train)\n",
    "\n",
    "# Best paramete set\n",
    "#print('Best parameters found:\\n', grid.best_params_)\n",
    "\n",
    "#best_cv_err = 1 - grid.best_score_\n",
    "#print(best_cv_err)"
   ]
  },
  {
   "cell_type": "code",
   "execution_count": 46,
   "metadata": {},
   "outputs": [],
   "source": [
    "alpha_arr = np.logspace(-3, 2, 21)\n",
    "test_err = []\n",
    "train_err = []\n",
    "for alpha in alpha_arr:\n",
    "    mlp_model = build_model(alpha, size, solver, activation, random_state)\n",
    "\n",
    "    y_train_pred = mlp_model.predict(X_train)\n",
    "    y_test_pred = mlp_model.predict(X_test)\n",
    "    train_err.append(np.mean(y_train != y_train_pred))\n",
    "    test_err.append(np.mean(y_test != y_test_pred))"
   ]
  },
  {
   "cell_type": "code",
   "execution_count": 47,
   "metadata": {},
   "outputs": [
    {
     "data": {
      "image/png": "[encoded data removed]",
      "text/plain": [
       "<Figure size 864x432 with 1 Axes>"
      ]
     },
     "metadata": {},
     "output_type": "display_data"
    }
   ],
   "source": [
    "plt.figure(figsize = (12,6))\n",
    "plt.semilogx(alpha_arr, train_err, 'r-o', label = 'train')\n",
    "plt.semilogx(alpha_arr, test_err, 'b-o', label = 'test')\n",
    "plt.xlim([np.max(alpha_arr), np.min(alpha_arr)])\n",
    "plt.title('Error vs. alpha')\n",
    "plt.xlabel('alpha')\n",
    "plt.ylabel('error')\n",
    "plt.legend()\n",
    "pass"
   ]
  },
  {
   "cell_type": "markdown",
   "metadata": {},
   "source": [
    "## Минимальные значения ошибок"
   ]
  },
  {
   "cell_type": "code",
   "execution_count": 48,
   "metadata": {},
   "outputs": [
    {
     "name": "stdout",
     "output_type": "stream",
     "text": [
      "0.0012903225806451613 0.06576402321083172\n"
     ]
    }
   ],
   "source": [
    "min_train_err = np.min(train_err)\n",
    "min_test_err = np.min(test_err)\n",
    "print(min_train_err, min_test_err)"
   ]
  },
  {
   "cell_type": "markdown",
   "metadata": {},
   "source": [
    "## Оптимальное альфа"
   ]
  },
  {
   "cell_type": "code",
   "execution_count": 49,
   "metadata": {},
   "outputs": [
    {
     "name": "stdout",
     "output_type": "stream",
     "text": [
      "[0.56234133]\n"
     ]
    }
   ],
   "source": [
    "alpha_opt = alpha_arr[test_err == min_test_err]\n",
    "print(alpha_opt)"
   ]
  },
  {
   "cell_type": "code",
   "execution_count": 50,
   "metadata": {},
   "outputs": [],
   "source": [
    "alpha_opt = alpha_opt[0]"
   ]
  },
  {
   "cell_type": "markdown",
   "metadata": {},
   "source": [
    "## Обучаю классификатор с оптимальной альфа"
   ]
  },
  {
   "cell_type": "code",
   "execution_count": 51,
   "metadata": {},
   "outputs": [
    {
     "name": "stdout",
     "output_type": "stream",
     "text": [
      "0.05419354838709677\n",
      "0.06576402321083172\n"
     ]
    }
   ],
   "source": [
    "mlp_model = build_model(alpha_opt, size, solver, activation, random_state)\n",
    "\n",
    "y_train_pred = mlp_model.predict(X_train)\n",
    "y_test_pred = mlp_model.predict(X_test)\n",
    "print(np.mean(y_train != y_train_pred))\n",
    "print(np.mean(y_test != y_test_pred))"
   ]
  },
  {
   "cell_type": "markdown",
   "metadata": {},
   "source": [
    "## Матрица рассогласования и другие метрики"
   ]
  },
  {
   "cell_type": "code",
   "execution_count": 52,
   "metadata": {},
   "outputs": [
    {
     "name": "stdout",
     "output_type": "stream",
     "text": [
      "[[958   5]\n",
      " [ 63   8]]\n"
     ]
    }
   ],
   "source": [
    "print(confusion_matrix(y_test, y_test_pred))"
   ]
  },
  {
   "cell_type": "code",
   "execution_count": 53,
   "metadata": {},
   "outputs": [
    {
     "name": "stdout",
     "output_type": "stream",
     "text": [
      "              precision    recall  f1-score   support\n",
      "\n",
      "           0       0.94      0.99      0.97       963\n",
      "           1       0.62      0.11      0.19        71\n",
      "\n",
      "    accuracy                           0.93      1034\n",
      "   macro avg       0.78      0.55      0.58      1034\n",
      "weighted avg       0.92      0.93      0.91      1034\n",
      "\n"
     ]
    }
   ],
   "source": [
    "print(classification_report(y_test, y_test_pred))"
   ]
  },
  {
   "cell_type": "code",
   "execution_count": 54,
   "metadata": {},
   "outputs": [],
   "source": [
    "neuron_number = range(2,102, 2)\n",
    "test_err = []\n",
    "train_err = []\n",
    "alpha_opt = 0.56234133\n",
    "for number in neuron_number:\n",
    "    mlp_model = build_model(alpha_opt, number, solver, activation, random_state)\n",
    "\n",
    "    y_train_pred = mlp_model.predict(X_train)\n",
    "    y_test_pred = mlp_model.predict(X_test)\n",
    "    train_err.append(np.mean(y_train != y_train_pred))\n",
    "    test_err.append(np.mean(y_test != y_test_pred))"
   ]
  },
  {
   "cell_type": "code",
   "execution_count": 55,
   "metadata": {},
   "outputs": [
    {
     "data": {
      "image/png": "[encoded data removed]",
      "text/plain": [
       "<Figure size 1080x360 with 1 Axes>"
      ]
     },
     "metadata": {},
     "output_type": "display_data"
    }
   ],
   "source": [
    "plt.rcParams[\"figure.figsize\"] = (15, 5)\n",
    "fig, ax = plt.subplots()\n",
    "xi = neuron_number\n",
    "y1 = train_err\n",
    "y2 = test_err\n",
    "\n",
    "plt.ylim(0.0,0.1)\n",
    "plt.plot(xi, y1, marker='o', linestyle='-', color='r', label = 'train')\n",
    "plt.plot(xi, y2, marker='o', linestyle='-', color='b', label = 'test')\n",
    "\n",
    "plt.xlabel('Number of neurons')\n",
    "plt.xlim(2, 100)\n",
    "plt.xticks(xi) #change from 0-based array index to 1-based human-readable label\n",
    "plt.ylabel('Error')\n",
    "plt.legend()\n",
    "plt.show()"
   ]
  },
  {
   "cell_type": "markdown",
   "metadata": {},
   "source": [
    "# Классификатор с данными, к которым применён PCA\n",
    "Взял 9 главных компонент"
   ]
  },
  {
   "cell_type": "code",
   "execution_count": 37,
   "metadata": {},
   "outputs": [],
   "source": [
    "pca = PCA(n_components=9)\n",
    "principalComponents = pca.fit_transform(df)\n",
    "pca_names = []\n",
    "for i in range(1,10):\n",
    "            pca_names.append('principal component' + str(i))\n",
    "principalDf = pd.DataFrame(data = principalComponents, columns = pca_names)\n",
    "finalDf = pd.concat([principalDf, df[['class']]], axis = 1)\n",
    "X = finalDf.drop('class', axis = 1)\n",
    "y = finalDf['class']\n",
    "X = X.to_numpy()\n",
    "y = y.to_numpy()\n",
    "X_train, X_test, y_train, y_test = train_test_split(X, y, test_size = 0.4, random_state = 42)\n",
    "N_train, _ = X_train.shape \n",
    "N_test,  _ = X_test.shape"
   ]
  },
  {
   "cell_type": "markdown",
   "metadata": {},
   "source": [
    "## Обучаю"
   ]
  },
  {
   "cell_type": "code",
   "execution_count": 41,
   "metadata": {},
   "outputs": [],
   "source": [
    "mlp_model = build_model(alpha, size, solver, activation, random_state)"
   ]
  },
  {
   "cell_type": "markdown",
   "metadata": {},
   "source": [
    "## Проверяю качество"
   ]
  },
  {
   "cell_type": "code",
   "execution_count": 42,
   "metadata": {},
   "outputs": [],
   "source": [
    "y_train_pred = mlp_model.predict(X_train)\n",
    "y_test_pred = mlp_model.predict(X_test)"
   ]
  },
  {
   "cell_type": "code",
   "execution_count": 43,
   "metadata": {},
   "outputs": [
    {
     "name": "stdout",
     "output_type": "stream",
     "text": [
      "1.0 0.8945841392649904\n"
     ]
    }
   ],
   "source": [
    "print(mlp_model.score(X_train, y_train), mlp_model.score(X_test, y_test))"
   ]
  },
  {
   "cell_type": "code",
   "execution_count": 44,
   "metadata": {},
   "outputs": [
    {
     "name": "stdout",
     "output_type": "stream",
     "text": [
      "0.10541586073500964\n"
     ]
    }
   ],
   "source": [
    "print(1 - mlp_model.score(X_test, y_test))"
   ]
  },
  {
   "cell_type": "code",
   "execution_count": 45,
   "metadata": {},
   "outputs": [
    {
     "name": "stdout",
     "output_type": "stream",
     "text": [
      "[[911  52]\n",
      " [ 57  14]]\n"
     ]
    }
   ],
   "source": [
    "print(confusion_matrix(y_test, y_test_pred))"
   ]
  },
  {
   "cell_type": "code",
   "execution_count": 46,
   "metadata": {},
   "outputs": [
    {
     "name": "stdout",
     "output_type": "stream",
     "text": [
      "              precision    recall  f1-score   support\n",
      "\n",
      "           0       0.94      0.95      0.94       963\n",
      "           1       0.21      0.20      0.20        71\n",
      "\n",
      "    accuracy                           0.89      1034\n",
      "   macro avg       0.58      0.57      0.57      1034\n",
      "weighted avg       0.89      0.89      0.89      1034\n",
      "\n"
     ]
    }
   ],
   "source": [
    "print(classification_report(y_test, y_test_pred))"
   ]
  },
  {
   "cell_type": "markdown",
   "metadata": {},
   "source": [
    "## Подбираю гиперпараметры"
   ]
  },
  {
   "cell_type": "code",
   "execution_count": 47,
   "metadata": {},
   "outputs": [],
   "source": [
    "alpha_arr = np.logspace(-3, 2, 21)\n",
    "test_err = []\n",
    "train_err = []\n",
    "for alpha in alpha_arr:\n",
    "    mlp_model = build_model(alpha, size, solver, activation, random_state)\n",
    "\n",
    "    y_train_pred = mlp_model.predict(X_train)\n",
    "    y_test_pred = mlp_model.predict(X_test)\n",
    "    train_err.append(np.mean(y_train != y_train_pred))\n",
    "    test_err.append(np.mean(y_test != y_test_pred))"
   ]
  },
  {
   "cell_type": "code",
   "execution_count": 48,
   "metadata": {},
   "outputs": [
    {
     "data": {
      "image/png": "[encoded data removed]",
      "text/plain": [
       "<Figure size 864x432 with 1 Axes>"
      ]
     },
     "metadata": {},
     "output_type": "display_data"
    }
   ],
   "source": [
    "plt.figure(figsize = (12,6))\n",
    "plt.semilogx(alpha_arr, train_err, 'r-o', label = 'train')\n",
    "plt.semilogx(alpha_arr, test_err, 'b-o', label = 'test')\n",
    "plt.xlim([np.max(alpha_arr), np.min(alpha_arr)])\n",
    "plt.title('Error vs. alpha')\n",
    "plt.xlabel('alpha')\n",
    "plt.ylabel('error')\n",
    "plt.legend()\n",
    "pass"
   ]
  },
  {
   "cell_type": "code",
   "execution_count": 49,
   "metadata": {},
   "outputs": [
    {
     "name": "stdout",
     "output_type": "stream",
     "text": [
      "0.0 0.06576402321083172\n"
     ]
    }
   ],
   "source": [
    "min_train_err = np.min(train_err)\n",
    "min_test_err = np.min(test_err)\n",
    "print(min_train_err, min_test_err)"
   ]
  },
  {
   "cell_type": "code",
   "execution_count": 50,
   "metadata": {},
   "outputs": [
    {
     "name": "stdout",
     "output_type": "stream",
     "text": [
      "[1.]\n"
     ]
    }
   ],
   "source": [
    "alpha_opt = alpha_arr[test_err == min_test_err]\n",
    "print(alpha_opt)"
   ]
  },
  {
   "cell_type": "code",
   "execution_count": 51,
   "metadata": {},
   "outputs": [],
   "source": [
    "alpha_opt = alpha_opt[0]"
   ]
  },
  {
   "cell_type": "markdown",
   "metadata": {},
   "source": [
    "## Снова обучаю с оптимальным альфа"
   ]
  },
  {
   "cell_type": "code",
   "execution_count": 52,
   "metadata": {},
   "outputs": [
    {
     "name": "stdout",
     "output_type": "stream",
     "text": [
      "0.06193548387096774\n",
      "0.06576402321083172\n"
     ]
    }
   ],
   "source": [
    "mlp_model = build_model(alpha_opt, size, solver, activation, random_state)\n",
    "\n",
    "y_train_pred = mlp_model.predict(X_train)\n",
    "y_test_pred = mlp_model.predict(X_test)\n",
    "print(np.mean(y_train != y_train_pred))\n",
    "print(np.mean(y_test != y_test_pred))"
   ]
  },
  {
   "cell_type": "markdown",
   "metadata": {},
   "source": [
    "## Матрица рассогласования и другие метрики"
   ]
  },
  {
   "cell_type": "code",
   "execution_count": 53,
   "metadata": {},
   "outputs": [
    {
     "name": "stdout",
     "output_type": "stream",
     "text": [
      "[[962   1]\n",
      " [ 67   4]]\n"
     ]
    }
   ],
   "source": [
    "print(confusion_matrix(y_test, y_test_pred))"
   ]
  },
  {
   "cell_type": "code",
   "execution_count": 54,
   "metadata": {},
   "outputs": [
    {
     "name": "stdout",
     "output_type": "stream",
     "text": [
      "              precision    recall  f1-score   support\n",
      "\n",
      "           0       0.93      1.00      0.97       963\n",
      "           1       0.80      0.06      0.11        71\n",
      "\n",
      "    accuracy                           0.93      1034\n",
      "   macro avg       0.87      0.53      0.54      1034\n",
      "weighted avg       0.93      0.93      0.91      1034\n",
      "\n"
     ]
    }
   ],
   "source": [
    "print(classification_report(y_test, y_test_pred))"
   ]
  },
  {
   "cell_type": "code",
   "execution_count": 55,
   "metadata": {},
   "outputs": [],
   "source": [
    "neuron_number = range(2,102, 2)\n",
    "test_err = []\n",
    "train_err = []\n",
    "alpha_opt = 1.\n",
    "for number in neuron_number:\n",
    "    mlp_model = build_model(alpha_opt, number, solver, activation, random_state)\n",
    "\n",
    "    y_train_pred = mlp_model.predict(X_train)\n",
    "    y_test_pred = mlp_model.predict(X_test)\n",
    "    train_err.append(np.mean(y_train != y_train_pred))\n",
    "    test_err.append(np.mean(y_test != y_test_pred))"
   ]
  },
  {
   "cell_type": "code",
   "execution_count": 57,
   "metadata": {},
   "outputs": [
    {
     "data": {
      "image/png": "[encoded data removed]",
      "text/plain": [
       "<Figure size 1080x360 with 1 Axes>"
      ]
     },
     "metadata": {},
     "output_type": "display_data"
    }
   ],
   "source": [
    "plt.rcParams[\"figure.figsize\"] = (15, 5)\n",
    "fig, ax = plt.subplots()\n",
    "xi = neuron_number\n",
    "y1 = train_err\n",
    "y2 = test_err\n",
    "\n",
    "plt.ylim(0.0,0.1)\n",
    "plt.plot(xi, y1, marker='o', linestyle='-', color='r', label = 'train')\n",
    "plt.plot(xi, y2, marker='o', linestyle='-', color='b', label = 'test')\n",
    "\n",
    "plt.xlabel('Number of neurons')\n",
    "plt.xlim(2, 100)\n",
    "plt.xticks(xi) #change from 0-based array index to 1-based human-readable label\n",
    "plt.ylabel('Error')\n",
    "plt.legend()\n",
    "plt.show()"
   ]
  },
  {
   "cell_type": "markdown",
   "metadata": {},
   "source": [
    "# Выводы"
   ]
  },
  {
   "cell_type": "markdown",
   "metadata": {},
   "source": [
    "- с PCA = 9 (даёт 95% дисперсии) количество правильно предсказанных элементов первого класса увеличилось, но немного уменьшилось количество правильно предсказанных элементов второго класса и немного уменьшилась ошибка  \n",
    "- оптимальное альфа улучшает предсказание элементов первого класса, но ухудшает предсказание элементов второго класса  \n",
    "- при фиксировании оптимального альфа:  \n",
    "на классификаторе без PCA ошибка на обучающей и тестовой выборках изменяется незначительно  \n",
    "на классификаторе с PCA = 9 ошибки практически не изменяются\n",
    "- при увеличении количества скрытых слоёв второй класс перестаёт хоть как-то предсказываться  \n",
    "Замечание: классы всё ещё не балансировал"
   ]
  },
  {
   "cell_type": "markdown",
   "metadata": {},
   "source": [
    "# Random Forest и Gradient Boosting Trees"
   ]
  },
  {
   "cell_type": "code",
   "execution_count": 75,
   "metadata": {},
   "outputs": [],
   "source": [
    "from sklearn.ensemble import RandomForestClassifier\n",
    "from sklearn.ensemble import GradientBoostingClassifier"
   ]
  },
  {
   "cell_type": "code",
   "execution_count": 76,
   "metadata": {},
   "outputs": [
    {
     "name": "stdout",
     "output_type": "stream",
     "text": [
      "[[926  37]\n",
      " [ 60  11]]\n",
      "0.014838709677419404\n",
      "0.0938104448742747\n"
     ]
    }
   ],
   "source": [
    "rfc = RandomForestClassifier(n_estimators=3, random_state=42)\n",
    "rfc.fit(X_train, y_train)\n",
    "\n",
    "rfc_predicted = rfc.predict(X_test)\n",
    "print(confusion_matrix(y_test, rfc_predicted))\n",
    "print(1 - rfc.score(X_train, y_train))\n",
    "print(1 - rfc.score(X_test, y_test))"
   ]
  },
  {
   "cell_type": "code",
   "execution_count": 97,
   "metadata": {},
   "outputs": [
    {
     "name": "stdout",
     "output_type": "stream",
     "text": [
      "[[947  16]\n",
      " [ 62   9]]\n",
      "0.0\n",
      "0.07543520309477758\n"
     ]
    }
   ],
   "source": [
    "gbc = GradientBoostingClassifier(n_estimators=1500, random_state=42)\n",
    "gbc.fit(X_train, y_train)\n",
    "\n",
    "gbc_predicted = gbc.predict(X_test)\n",
    "print(confusion_matrix(y_test, gbc_predicted))\n",
    "print(1 - gbc.score(X_train, y_train))\n",
    "print(1 - gbc.score(X_test, y_test))"
   ]
  },
  {
   "cell_type": "code",
   "execution_count": 112,
   "metadata": {},
   "outputs": [
    {
     "name": "stdout",
     "output_type": "stream",
     "text": [
      "10:\n",
      "[[955   8]\n",
      " [ 68   3]]\n",
      "0.014193548387096775\n",
      "0.0735009671179884\n",
      "0.07483870967741935\n",
      "20:\n",
      "[[961   2]\n",
      " [ 66   5]]\n",
      "0.0064516129032258064\n",
      "0.06576402321083172\n",
      "0.07225806451612904\n",
      "30:\n"
     ]
    },
    {
     "name": "stderr",
     "output_type": "stream",
     "text": [
      "D:\\Anaconda\\lib\\site-packages\\sklearn\\ensemble\\forest.py:460: UserWarning: Some inputs do not have OOB scores. This probably means too few trees were used to compute any reliable oob estimates.\n",
      "  warn(\"Some inputs do not have OOB scores. \"\n",
      "D:\\Anaconda\\lib\\site-packages\\sklearn\\ensemble\\forest.py:465: RuntimeWarning: invalid value encountered in true_divide\n",
      "  predictions[k].sum(axis=1)[:, np.newaxis])\n",
      "D:\\Anaconda\\lib\\site-packages\\sklearn\\ensemble\\forest.py:460: UserWarning: Some inputs do not have OOB scores. This probably means too few trees were used to compute any reliable oob estimates.\n",
      "  warn(\"Some inputs do not have OOB scores. \"\n",
      "D:\\Anaconda\\lib\\site-packages\\sklearn\\ensemble\\forest.py:465: RuntimeWarning: invalid value encountered in true_divide\n",
      "  predictions[k].sum(axis=1)[:, np.newaxis])\n"
     ]
    },
    {
     "name": "stdout",
     "output_type": "stream",
     "text": [
      "[[960   3]\n",
      " [ 68   3]]\n",
      "0.003870967741935484\n",
      "0.06866537717601548\n",
      "0.07096774193548383\n",
      "40:\n",
      "[[959   4]\n",
      " [ 69   2]]\n",
      "0.001935483870967742\n",
      "0.07059961315280464\n",
      "0.06774193548387097\n",
      "50:\n",
      "[[960   3]\n",
      " [ 69   2]]\n",
      "0.0006451612903225806\n",
      "0.06963249516441006\n",
      "0.06838709677419352\n",
      "60:\n",
      "[[961   2]\n",
      " [ 69   2]]\n",
      "0.0012903225806451613\n",
      "0.06866537717601548\n",
      "0.06838709677419352\n",
      "70:\n",
      "[[961   2]\n",
      " [ 69   2]]\n",
      "0.0006451612903225806\n",
      "0.06866537717601548\n",
      "0.06774193548387097\n",
      "80:\n",
      "[[959   4]\n",
      " [ 69   2]]\n",
      "0.0\n",
      "0.07059961315280464\n",
      "0.06516129032258067\n",
      "90:\n",
      "[[960   3]\n",
      " [ 69   2]]\n",
      "0.0\n",
      "0.06963249516441006\n",
      "0.06451612903225812\n",
      "100:\n",
      "[[960   3]\n",
      " [ 69   2]]\n",
      "0.0\n",
      "0.06963249516441006\n",
      "0.06580645161290322\n",
      "110:\n",
      "[[960   3]\n",
      " [ 69   2]]\n",
      "0.0\n",
      "0.06963249516441006\n",
      "0.06516129032258067\n",
      "120:\n",
      "[[960   3]\n",
      " [ 69   2]]\n",
      "0.0\n",
      "0.06963249516441006\n",
      "0.06516129032258067\n",
      "130:\n",
      "[[960   3]\n",
      " [ 69   2]]\n",
      "0.0\n",
      "0.06963249516441006\n",
      "0.06451612903225812\n",
      "140:\n",
      "[[960   3]\n",
      " [ 69   2]]\n",
      "0.0\n",
      "0.06963249516441006\n",
      "0.06516129032258067\n",
      "150:\n",
      "[[959   4]\n",
      " [ 70   1]]\n",
      "0.0\n",
      "0.07156673114119923\n",
      "0.06516129032258067\n",
      "160:\n",
      "[[959   4]\n",
      " [ 70   1]]\n",
      "0.0\n",
      "0.07156673114119923\n",
      "0.06516129032258067\n",
      "170:\n",
      "[[960   3]\n",
      " [ 70   1]]\n",
      "0.0\n",
      "0.07059961315280464\n",
      "0.06516129032258067\n",
      "180:\n",
      "[[960   3]\n",
      " [ 71   0]]\n",
      "0.0\n",
      "0.07156673114119923\n",
      "0.06516129032258067\n",
      "190:\n",
      "[[960   3]\n",
      " [ 70   1]]\n",
      "0.0\n",
      "0.07059961315280464\n",
      "0.06451612903225812\n",
      "200:\n",
      "[[960   3]\n",
      " [ 70   1]]\n",
      "0.0\n",
      "0.07059961315280464\n",
      "0.06516129032258067\n",
      "210:\n",
      "[[960   3]\n",
      " [ 70   1]]\n",
      "0.0\n",
      "0.07059961315280464\n",
      "0.06516129032258067\n",
      "220:\n",
      "[[960   3]\n",
      " [ 70   1]]\n",
      "0.0\n",
      "0.07059961315280464\n",
      "0.06516129032258067\n",
      "230:\n",
      "[[960   3]\n",
      " [ 70   1]]\n",
      "0.0\n",
      "0.07059961315280464\n",
      "0.06516129032258067\n",
      "240:\n",
      "[[960   3]\n",
      " [ 71   0]]\n",
      "0.0\n",
      "0.07156673114119923\n",
      "0.06516129032258067\n"
     ]
    }
   ],
   "source": [
    "trees_number = range(10, 250, 10)\n",
    "test_err = []\n",
    "train_err = []\n",
    "oob_err = []\n",
    "for number in trees_number:\n",
    "    print(f'{number}:')\n",
    "    rfc = RandomForestClassifier(n_estimators=number, random_state=42, warm_start=True, oob_score=True)\n",
    "    rfc.fit(X_train, y_train)\n",
    "        \n",
    "    y_train_pred = rfc.predict(X_train)\n",
    "    y_test_pred = rfc.predict(X_test)\n",
    "    train_err.append(np.mean(y_train != y_train_pred))\n",
    "    test_err.append(np.mean(y_test != y_test_pred))\n",
    "    oob_err.append(1 - rfc.oob_score_)\n",
    "    print(confusion_matrix(y_test, y_test_pred))\n",
    "    print(np.mean(y_train != y_train_pred))\n",
    "    print(np.mean(y_test != y_test_pred))\n",
    "    print(1 - rfc.oob_score_)"
   ]
  },
  {
   "cell_type": "code",
   "execution_count": 114,
   "metadata": {},
   "outputs": [
    {
     "data": {
      "image/png": "[encoded data removed]",
      "text/plain": [
       "<Figure size 1080x360 with 1 Axes>"
      ]
     },
     "metadata": {
      "needs_background": "light"
     },
     "output_type": "display_data"
    }
   ],
   "source": [
    "plt.rcParams[\"figure.figsize\"] = (15, 5)\n",
    "fig, ax = plt.subplots()\n",
    "xi = trees_number\n",
    "y1 = train_err\n",
    "y2 = test_err\n",
    "y3 = oob_err\n",
    "\n",
    "plt.ylim(0.0,0.2)\n",
    "plt.plot(xi, y1, marker='o', linestyle='-', color='r', label = 'train')\n",
    "plt.plot(xi, y2, marker='o', linestyle='-', color='b', label = 'test')\n",
    "plt.plot(xi, y3, marker='o', linestyle='-', color='g', label = 'oob')\n",
    "\n",
    "plt.xlabel('Number of trees')\n",
    "plt.xlim(0, 250)\n",
    "plt.xticks(xi)\n",
    "plt.ylabel('Error')\n",
    "plt.legend()\n",
    "plt.show()"
   ]
  },
  {
   "cell_type": "code",
   "execution_count": 115,
   "metadata": {},
   "outputs": [
    {
     "name": "stdout",
     "output_type": "stream",
     "text": [
      "10:\n",
      "[[959   4]\n",
      " [ 71   0]]\n",
      "0.06258064516129032\n",
      "0.0725338491295938\n",
      "20:\n",
      "[[958   5]\n",
      " [ 70   1]]\n",
      "0.05870967741935484\n",
      "0.0725338491295938\n",
      "30:\n",
      "[[957   6]\n",
      " [ 69   2]]\n",
      "0.056129032258064517\n",
      "0.0725338491295938\n",
      "40:\n",
      "[[955   8]\n",
      " [ 67   4]]\n",
      "0.05161290322580645\n",
      "0.0725338491295938\n",
      "50:\n",
      "[[955   8]\n",
      " [ 66   5]]\n",
      "0.05032258064516129\n",
      "0.07156673114119923\n",
      "60:\n",
      "[[953  10]\n",
      " [ 67   4]]\n",
      "0.04709677419354839\n",
      "0.07446808510638298\n",
      "70:\n",
      "[[953  10]\n",
      " [ 65   6]]\n",
      "0.04258064516129032\n",
      "0.0725338491295938\n",
      "80:\n",
      "[[951  12]\n",
      " [ 65   6]]\n",
      "0.04\n",
      "0.07446808510638298\n",
      "90:\n",
      "[[953  10]\n",
      " [ 65   6]]\n",
      "0.03612903225806452\n",
      "0.0725338491295938\n",
      "100:\n",
      "[[953  10]\n",
      " [ 65   6]]\n",
      "0.034193548387096775\n",
      "0.0725338491295938\n",
      "110:\n",
      "[[952  11]\n",
      " [ 64   7]]\n",
      "0.03032258064516129\n",
      "0.0725338491295938\n",
      "120:\n",
      "[[952  11]\n",
      " [ 64   7]]\n",
      "0.02967741935483871\n",
      "0.0725338491295938\n",
      "130:\n",
      "[[950  13]\n",
      " [ 64   7]]\n",
      "0.027096774193548386\n",
      "0.07446808510638298\n",
      "140:\n",
      "[[951  12]\n",
      " [ 63   8]]\n",
      "0.027096774193548386\n",
      "0.0725338491295938\n",
      "150:\n",
      "[[951  12]\n",
      " [ 63   8]]\n",
      "0.027096774193548386\n",
      "0.0725338491295938\n",
      "160:\n",
      "[[951  12]\n",
      " [ 63   8]]\n",
      "0.025806451612903226\n",
      "0.0725338491295938\n",
      "170:\n",
      "[[946  17]\n",
      " [ 63   8]]\n",
      "0.024516129032258065\n",
      "0.07736943907156674\n",
      "180:\n",
      "[[948  15]\n",
      " [ 63   8]]\n",
      "0.024516129032258065\n",
      "0.07543520309477757\n",
      "190:\n",
      "[[947  16]\n",
      " [ 63   8]]\n",
      "0.02193548387096774\n",
      "0.07640232108317214\n",
      "200:\n",
      "[[946  17]\n",
      " [ 63   8]]\n",
      "0.02\n",
      "0.07736943907156674\n",
      "210:\n",
      "[[946  17]\n",
      " [ 63   8]]\n",
      "0.02\n",
      "0.07736943907156674\n",
      "220:\n",
      "[[949  14]\n",
      " [ 63   8]]\n",
      "0.01870967741935484\n",
      "0.07446808510638298\n",
      "230:\n",
      "[[946  17]\n",
      " [ 63   8]]\n",
      "0.015483870967741935\n",
      "0.07736943907156674\n",
      "240:\n",
      "[[945  18]\n",
      " [ 63   8]]\n",
      "0.014838709677419355\n",
      "0.07833655705996131\n"
     ]
    }
   ],
   "source": [
    "trees_number = range(10, 250, 10)\n",
    "test_err = []\n",
    "train_err = []\n",
    "oob_err = []\n",
    "for number in trees_number:\n",
    "    print(f'{number}:')\n",
    "    gbc = GradientBoostingClassifier(n_estimators=number, random_state=42, subsample=0.6)\n",
    "    gbc.fit(X_train, y_train)\n",
    "        \n",
    "    y_train_pred = gbc.predict(X_train)\n",
    "    y_test_pred = gbc.predict(X_test)\n",
    "    train_err.append(np.mean(y_train != y_train_pred))\n",
    "    test_err.append(np.mean(y_test != y_test_pred))\n",
    "    oob_err.append(gbc.oob_improvement_)\n",
    "    print(confusion_matrix(y_test, y_test_pred))\n",
    "    print(np.mean(y_train != y_train_pred))\n",
    "    print(np.mean(y_test != y_test_pred))"
   ]
  },
  {
   "cell_type": "code",
   "execution_count": 116,
   "metadata": {},
   "outputs": [
    {
     "data": {
      "image/png": "[encoded data removed]",
      "text/plain": [
       "<Figure size 1080x360 with 1 Axes>"
      ]
     },
     "metadata": {
      "needs_background": "light"
     },
     "output_type": "display_data"
    }
   ],
   "source": [
    "plt.rcParams[\"figure.figsize\"] = (15, 5)\n",
    "fig, ax = plt.subplots()\n",
    "xi = trees_number\n",
    "y1 = train_err\n",
    "y2 = test_err\n",
    "\n",
    "plt.ylim(0.0,0.1)\n",
    "plt.plot(xi, y1, marker='o', linestyle='-', color='r', label = 'train')\n",
    "plt.plot(xi, y2, marker='o', linestyle='-', color='b', label = 'test')\n",
    "\n",
    "plt.xlabel('Number of trees')\n",
    "plt.xlim(0, 250)\n",
    "plt.xticks(xi)\n",
    "plt.ylabel('Error')\n",
    "plt.legend()\n",
    "plt.show()"
   ]
  },
  {
   "cell_type": "code",
   "execution_count": 117,
   "metadata": {},
   "outputs": [
    {
     "data": {
      "image/png": "[encoded data removed]",
      "text/plain": [
       "<Figure size 1080x360 with 1 Axes>"
      ]
     },
     "metadata": {
      "needs_background": "light"
     },
     "output_type": "display_data"
    }
   ],
   "source": [
    "#cumsum = -np.cumsum(gbc.oob_improvement_)\n",
    "oob = [oob[-1] for oob in oob_err]\n",
    "#plt.plot(range(0, 2000), cumsum, label='OOB loss')\n",
    "plt.plot(range(10, 250, 10), oob, label='Gradient Boosting Trees')\n",
    "plt.xlim(0, 250)\n",
    "plt.xlabel(\"Number of trees\")\n",
    "plt.ylabel(\"OOB improvement\")\n",
    "plt.legend()\n",
    "plt.show()"
   ]
  },
  {
   "cell_type": "markdown",
   "metadata": {},
   "source": [
    "# Выводы"
   ]
  },
  {
   "cell_type": "markdown",
   "metadata": {},
   "source": [
    "- наблюдается переобучение моделей\n",
    "- SVM с применением PCA оказался лучшим классификатором"
   ]
  },
  {
   "cell_type": "code",
   "execution_count": null,
   "metadata": {},
   "outputs": [],
   "source": []
  }
 ],
 "metadata": {
  "kernelspec": {
   "display_name": "Python 3",
   "language": "python",
   "name": "python3"
  },
  "language_info": {
   "codemirror_mode": {
    "name": "ipython",
    "version": 3
   },
   "file_extension": ".py",
   "mimetype": "text/x-python",
   "name": "python",
   "nbconvert_exporter": "python",
   "pygments_lexer": "ipython3",
   "version": "3.7.3"
  }
 },
 "nbformat": 4,
 "nbformat_minor": 2
}
